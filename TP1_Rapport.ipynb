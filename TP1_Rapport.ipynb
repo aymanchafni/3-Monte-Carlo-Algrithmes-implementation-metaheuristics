{
 "cells": [
  {
   "cell_type": "markdown",
   "metadata": {},
   "source": [
    "# Rapport TP1 Métaheuristiques d'optimization "
   ]
  },
  {
   "cell_type": "markdown",
   "metadata": {},
   "source": [
    "### Introduction:"
   ]
  },
  {
   "cell_type": "markdown",
   "metadata": {},
   "source": [
    "Ce TP consiste à comparer la performance et l'efficacité de trois métaheuristiques du type Monte-Carlo. \n",
    "J'ai essayé de regrouper tout le code dans un seul notebook même si le développement de chaque algorithme est fait dans un fichier séparé accompagnant ce rapport. \n",
    "Ce notebook représente le rapport du travail et comporte tout le code source et le résultat de l'exécution avec des commentaires et des explications.\n",
    "Pour les deux algorithmes du hill climbing et du recuit simulé, il se peut que l'algorithme rentre dans une boucle de très longue durée lors de la génération du nouveau candidat à cause des contraintes, il serait utile donc d'interrompre le Kernel et réexécuter l'appel de l'algorithme."
   ]
  },
  {
   "cell_type": "markdown",
   "metadata": {},
   "source": [
    "Deux bibliothèques seulement sont utilisées pour ce travail :"
   ]
  },
  {
   "cell_type": "code",
   "execution_count": 1046,
   "metadata": {},
   "outputs": [],
   "source": [
    "import numpy as np\n",
    "import pandas as pd\n",
    "#from tqdm import tqdm "
   ]
  },
  {
   "cell_type": "markdown",
   "metadata": {},
   "source": [
    "La fonction 'bornes' permet de retourner les bornes des variables du problème et parce que les bornes des variables x3 et x4 dépendent des valeurs de z1 et z2, on doit calculer les bornes à chaque fois en fonction du nouveau point qu'on a.\n",
    "\n",
    "Ces bornes n'étaient pas explicites, il fallait donc simplifier les différentes inégalités qu'on a dans le problème. Dans ce qui suit la démonstration :\n",
    "\n",
    "•\tx1 <= 99 : c'est une donnée, mais j'ai choisi comme borne inferieure 1 après plusieurs exécutions ou l'algorithme tournait dans une boucle très longue pour trouver un candidat acceptable.\n",
    "\n",
    "•\tx2 >= 1 : donnée, et j'ai choisi comme borne supérieure 100 pour la même raison\n",
    "\n",
    "•\t0.00954*x3 <= z2 & 0.0193*x3 <= z1 & x3 <= 200 ce qui implique que x3 <= min(0.625*x[1]/0.00954,0.625*x[0]/0.0193, 200), et j'ai choisi comme borne inferieure 1\n",
    "\n",
    "•\t-pi*x3**2* x4 - 4/3*pi*x3**3 <= -1296000  & x4 >=10 implique que x4 >= 1296000/pi*x3**2 - 4/3*x3 (x3!=0) & x4 >= 10\n",
    "\n",
    "ce qui implique que : x4 >= max(1296000/pi*x3**2 - 4/3*x3, 10) et on a x3 <= 240\n"
   ]
  },
  {
   "cell_type": "code",
   "execution_count": 1047,
   "metadata": {},
   "outputs": [],
   "source": [
    "def bornes(x):\n",
    "    return np.asarray([[1,99],[1,100],[1,min(0.625*x[1]/0.00954, 0.625*x[0]/0.0193, 200)],[max(10,1296000/(np.pi*x[2]**2)-4/3*x[2]),240]])"
   ]
  },
  {
   "cell_type": "markdown",
   "metadata": {},
   "source": [
    "La fonction objective :"
   ]
  },
  {
   "cell_type": "code",
   "execution_count": 1048,
   "metadata": {},
   "outputs": [],
   "source": [
    "def cout_soudure(x):\n",
    "            return 1.7781*0.625*x[1]*x[2]**2 + 0.6224*0.625*x[0]*x[2]*x[3] + 3.1661*(0.625*x[0])**2*x[3] + 19.84*(0.625*x[0])**2*x[2]\n"
   ]
  },
  {
   "cell_type": "markdown",
   "metadata": {},
   "source": [
    "Cette fonction permet de vérifier si le nouveau point génère respecte les contraintes ou pas en se servant de la fonction 'bornes'. "
   ]
  },
  {
   "cell_type": "code",
   "execution_count": 1049,
   "metadata": {},
   "outputs": [],
   "source": [
    "def contraintes(x):\n",
    "    _bornes = bornes(x)\n",
    "    for i in range(len(x)):\n",
    "        if x[i] < _bornes[i,0] or x[i] > _bornes[i,1]:\n",
    "            return False\n",
    "    return True\n"
   ]
  },
  {
   "cell_type": "markdown",
   "metadata": {},
   "source": [
    "La fonction d'initialisation du premier point pour les deux algorithmes du hill climbing et du recuit simulé et qui le génère en respectant les contraintes imposées en se servant de la fonction 'bornes'. "
   ]
  },
  {
   "cell_type": "code",
   "execution_count": 1050,
   "metadata": {},
   "outputs": [],
   "source": [
    "def initialiser_points():\n",
    "    x = np.zeros(4)\n",
    "    _bornes = bornes(x)\n",
    "    while not contraintes(x):\n",
    "            x[0]= np.random.uniform(low =  _bornes[0,0],high = _bornes[0,1])\n",
    "            x[1]= np.random.uniform(low =  _bornes[1,0], high =  _bornes[1,1])\n",
    "            _bornes = bornes(x)\n",
    "            x[2]= np.random.uniform(low =  _bornes[2,0],high =  _bornes[2,1])\n",
    "            _bornes = bornes(x)\n",
    "            x[3]= np.random.uniform(low =  _bornes[3,0], high =  _bornes[3,1])\n",
    "\n",
    "    return x\n",
    "\n"
   ]
  },
  {
   "cell_type": "markdown",
   "metadata": {},
   "source": [
    "Cette fonction est pour générer une liste de n points pour l'algorithme aléatoire."
   ]
  },
  {
   "cell_type": "code",
   "execution_count": 1051,
   "metadata": {},
   "outputs": [],
   "source": [
    "def generer_points(n):\n",
    "    x = np.zeros([n,4])\n",
    "    for i in range(n):\n",
    "            _bornes = bornes(x[i])\n",
    "            \n",
    "            while not contraintes(x[i]):\n",
    "                \n",
    "                    x[i,0]= np.random.uniform(low =  _bornes[0,0],high = _bornes[0,1])\n",
    "                    x[i,1]= np.random.uniform(low =  _bornes[1,0], high =  _bornes[1,1])\n",
    "                    _bornes = bornes(x[i])\n",
    "                    x[i,2]= np.random.uniform(low =  _bornes[2,0],high =  _bornes[2,1])\n",
    "                    _bornes = bornes(x[i])\n",
    "                    x[i,3]= np.random.uniform(low =  _bornes[3,0], high =  _bornes[3,1])\n",
    "\n",
    "    return x\n",
    "   \n"
   ]
  },
  {
   "cell_type": "markdown",
   "metadata": {},
   "source": [
    "La fonction 'mutation' est utilisée aussi pour les deux algorithmes du hill climbing et du recuit simulé. Elle permet de modifier une des variables choisies aléatoirement du candidat actuel. Elle retourne un nouveau point en fonction de l'ancien à condition qu'il respecte les contraintes.\n",
    "Pour ce, j'ai utilisé une mutation trouvée dans une référence du cours qui se sert de la distribution gaussienne. En plus, si la fonction ne trouve pas un nouveau candidat acceptable pendant dix itérations, elle change la dimension à modifier.\n"
   ]
  },
  {
   "cell_type": "code",
   "execution_count": 1052,
   "metadata": {},
   "outputs": [],
   "source": [
    "def mutation(candidat):\n",
    "    _bornes = bornes(candidat)\n",
    "\n",
    "    \n",
    "    temp_array = candidat\n",
    "\n",
    "    cpt=0\n",
    "    while True: #do-while\n",
    "        \n",
    "        if(cpt%10 == 0):\n",
    "            i = np.random.randint(0,4)\n",
    "            temp=candidat[i]\n",
    "        \n",
    "        temp = candidat[i] + np.random.normal(0,1) * 0.01 * (_bornes[i,1] - _bornes[i,0]) \n",
    "        temp_array[i] = temp\n",
    "        \n",
    "       \n",
    "\n",
    "        if contraintes(temp_array): \n",
    "            candidat[i] = temp\n",
    "            break\n",
    "        \n",
    "        cpt+=1\n",
    "    return candidat\n"
   ]
  },
  {
   "cell_type": "markdown",
   "metadata": {},
   "source": [
    "Les différentes heuristiques de refroidissement pour le recuit simulé:"
   ]
  },
  {
   "cell_type": "code",
   "execution_count": 1053,
   "metadata": {},
   "outputs": [],
   "source": [
    "def calculer_temperature_expo(t, T_init,epsilon_t=0.025): #exponentiel\n",
    "    return (1-epsilon_t)**t*T_init\n",
    "\n"
   ]
  },
  {
   "cell_type": "code",
   "execution_count": 1054,
   "metadata": {},
   "outputs": [],
   "source": [
    "def calculer_temperature_log(t, T_init): # logarithmique\n",
    "    if t<3:\n",
    "        return T_init\n",
    "    return T_init/np.log(t)\n"
   ]
  },
  {
   "cell_type": "code",
   "execution_count": 1055,
   "metadata": {},
   "outputs": [],
   "source": [
    "def calculer_temperature_poly(t,T_init,t_max=200, alpha=2): # polynomial\n",
    "    return (1-t/t_max)**alpha * T_init # t_max est l'iteration maximale pour laquelle la temperature doit etre nulle\n"
   ]
  },
  {
   "cell_type": "markdown",
   "metadata": {},
   "source": [
    "Fonction de calcul de la probalbilite d'acceptation d'un nouveau point dont le score est plus mauvais que celui du point atuel."
   ]
  },
  {
   "cell_type": "code",
   "execution_count": 1056,
   "metadata": {},
   "outputs": [],
   "source": [
    "def proba_acceptance(T,deltaE):\n",
    "    return np.exp(-deltaE/T)"
   ]
  },
  {
   "cell_type": "markdown",
   "metadata": {},
   "source": [
    "'print_results' permet d'afficher les meilleurs résultats trouvés. "
   ]
  },
  {
   "cell_type": "code",
   "execution_count": 1057,
   "metadata": {
    "tags": []
   },
   "outputs": [],
   "source": [
    "def print_results(hist):\n",
    "    \n",
    "    scores = hist[:,1]\n",
    "    best_score = min(scores)\n",
    "    index = np.where(scores == best_score)\n",
    "    #print(f\"index : {index}\")\n",
    "    print(f\"meilleurs dimensions : \\n z1 = {0.625*hist[index[0][0],3]} \\n z2 = {0.625*hist[index[0][0],4]} \\n x3 = {hist[index[0][0],5]} \\n x4 = {hist[index[0][0],6]}\\n\")\n",
    "    print(f\"meilleur score : {best_score}\\n\")\n",
    "\n",
    "   \n",
    "\n"
   ]
  },
  {
   "cell_type": "markdown",
   "metadata": {},
   "source": [
    "Cette fonction prépare les données pour la présentation dans un tableau a l'aide de la bibliothèque 'pandas'. Elle permet de convertir une liste numpy en une DataFrame, avec le calcul de z1 et z2 à partir de x1 et x2."
   ]
  },
  {
   "cell_type": "code",
   "execution_count": 1058,
   "metadata": {},
   "outputs": [],
   "source": [
    "def preparation_table(hist):\n",
    "    hist[:,3] = [0.625 * a for a in hist[:,3]]\n",
    "    hist[:,4] = [0.625 * a for a in hist[:,4]]\n",
    "\n",
    "    table = pd.DataFrame(data=hist[:,1:], columns=[\"Score\",\"Nbr itrs\", \"z1\",\"z2\",\"x3\",\"x4\"], index=hist[:,0]) \n",
    "    \n",
    "    return table\n",
    "\n",
    "\n"
   ]
  },
  {
   "cell_type": "markdown",
   "metadata": {},
   "source": [
    "Fonction pour l'affichage de l'historique détaillé des points et scores."
   ]
  },
  {
   "cell_type": "code",
   "execution_count": 1059,
   "metadata": {},
   "outputs": [],
   "source": [
    "def print_table(hist):\n",
    "      print(\"historique detaille :\\n\")\n",
    "      return preparation_table(hist)"
   ]
  },
  {
   "cell_type": "markdown",
   "metadata": {},
   "source": [
    "Fonction pour l'affichage d'une table contenant l'analyse de l'historique à l'aide de la méthode describe() de 'pandas'."
   ]
  },
  {
   "cell_type": "code",
   "execution_count": 1060,
   "metadata": {},
   "outputs": [],
   "source": [
    "def print_analyse(hist):\n",
    "    print(\"Analyse des donnees generees :\\n\")\n",
    "    return preparation_table(hist).describe()\n"
   ]
  },
  {
   "cell_type": "markdown",
   "metadata": {},
   "source": [
    "L'algorithme de la recherche aléatoire : "
   ]
  },
  {
   "cell_type": "code",
   "execution_count": 1061,
   "metadata": {},
   "outputs": [],
   "source": [
    "def aleatoire(n = 50, itrs=100,epsilon = 0.001, samples_size = 10 ,verbose = False):\n",
    "    \n",
    "     \n",
    "       #iterateur \n",
    "    i=0\n",
    "    historique = np.empty([0,7])\n",
    "    while(i<n):\n",
    "        i+=1\n",
    "        k=0\n",
    "        l=0\n",
    "        current_points = generer_points(samples_size)\n",
    "        scores = np.apply_along_axis(cout_soudure, arr = current_points, axis = 1)\n",
    "        score = np.min(scores)\n",
    "        current_point = current_points[np.argmin(scores),]\n",
    "        best_point = current_point\n",
    "        best_score = score\n",
    "        best_before_score = best_score\n",
    "        \n",
    "        while(k<itrs):\n",
    "          k+=1   \n",
    "          current_points = generer_points(samples_size)\n",
    "          scores = np.apply_along_axis(cout_soudure, arr = current_points, axis = 1)\n",
    "\n",
    "          score = np.min(scores)\n",
    "          current_point = current_points[np.argmin(scores),]          \n",
    "          \n",
    "          best_before_score = best_score\n",
    "\n",
    "          if(score < best_score):\n",
    "                best_score = score\n",
    "                best_point = current_point\n",
    "          \n",
    "\n",
    "          if best_before_score - best_score < epsilon :\n",
    "                 l += 1 \n",
    "          else :\n",
    "                 l = 0\n",
    "\n",
    "          if l == 50 : \n",
    "              break\n",
    "          \n",
    "\n",
    "          if verbose :\n",
    "                print(f\"itr : {k}, minimum : {current_point}, best score : {score}\")\n",
    "        \n",
    "        historique = np.append(historique,[np.append([i,best_score,k],[best_point])],axis=0)\n",
    "    return historique"
   ]
  },
  {
   "cell_type": "code",
   "execution_count": 1062,
   "metadata": {
    "tags": []
   },
   "outputs": [
    {
     "output_type": "stream",
     "name": "stderr",
     "text": [
      "<ipython-input-1047-6b33492640bc>:2: RuntimeWarning: divide by zero encountered in double_scalars\n  return np.asarray([[1,99],[1,100],[1,min(0.625*x[1]/0.00954, 0.625*x[0]/0.0193, 200)],[max(10,1296000/(np.pi*x[2]**2)-4/3*x[2]),240]])\n"
     ]
    }
   ],
   "source": [
    "while True:\n",
    "    iter = input(\"Entrer le nombre d'iterations : \")\n",
    "    epsilon = input(\"Entrer epsilon ( progres minimal ) : \")\n",
    "\n",
    "    if int(iter) > 0 and float(epsilon) > 0:\n",
    "      break\n",
    "    else:\n",
    "      print(\"Veuillez reesayer!\")\n",
    "    \n",
    "hist = aleatoire(itrs = int(iter), epsilon=float(epsilon))"
   ]
  },
  {
   "cell_type": "code",
   "execution_count": 1063,
   "metadata": {},
   "outputs": [
    {
     "output_type": "stream",
     "name": "stdout",
     "text": [
      "meilleurs dimensions : \n z1 = 1.3767210474805958 \n z2 = 1.939598125313187 \n x3 = 60.0784197387637 \n x4 = 108.86495743316941\n\nmeilleur score : 20964.93791479527\n\n"
     ]
    }
   ],
   "source": [
    "print_results(hist)"
   ]
  },
  {
   "cell_type": "code",
   "execution_count": 1064,
   "metadata": {},
   "outputs": [
    {
     "output_type": "stream",
     "name": "stdout",
     "text": [
      "historique detaille :\n\n"
     ]
    },
    {
     "output_type": "execute_result",
     "data": {
      "text/plain": [
       "              Score  Nbr itrs         z1         z2          x3          x4\n",
       "1.0    26446.032531      10.0   1.963551   1.233420   56.208493  188.101222\n",
       "2.0    82574.232496      10.0   5.043144   2.109175   89.348620   20.914695\n",
       "3.0    27213.196844      10.0   2.311289   1.469481   74.252881   39.903838\n",
       "4.0    71928.021815      10.0   3.010379  11.104022   49.110910  128.222285\n",
       "5.0    44269.077448      10.0   3.282426   2.989003   42.422749  212.249387\n",
       "6.0   264220.702670      10.0   3.957039  11.552569   92.223019  219.952712\n",
       "7.0    82847.259180      10.0   2.059841   4.511283   92.772015   45.322374\n",
       "8.0    27497.102975      10.0   2.009807   3.970352   38.092822  234.950957\n",
       "9.0   103060.435245      10.0   1.246734  14.609055   60.445743  121.309502\n",
       "10.0   24153.032737      10.0   0.964143   6.403787   38.980109  232.882345\n",
       "11.0   73633.561229      10.0   3.145237  12.329053   43.927577  193.584982\n",
       "12.0   96339.731528      10.0   4.290667  15.996087   41.608579  188.308716\n",
       "13.0  185059.264446      10.0   9.290813   0.790988   79.820741   53.614337\n",
       "14.0  166542.045576      10.0   2.684896  44.684154   41.911959  225.926258\n",
       "15.0   20964.937915      10.0   1.376721   1.939598   60.078420  108.864957\n",
       "16.0  132762.763654      10.0   3.722426  28.187951   42.139461  227.394171\n",
       "17.0  134683.736980      10.0   5.083763   3.501446   70.423354  222.206549\n",
       "18.0   40648.304925      10.0   2.919902   2.823971   48.508654  179.133740\n",
       "19.0   22321.414127      10.0   1.786925   0.671907   52.309133  230.476319\n",
       "20.0  131822.765347      10.0   2.711935   4.296150  118.083729   36.281928\n",
       "21.0   87686.604133      10.0   1.919159  13.636884   53.101006  205.548072\n",
       "22.0   46002.526873      10.0   1.197896  11.395279   42.270056  238.388301\n",
       "23.0  141416.338862      10.0   4.790566  19.896983   49.432785  147.497018\n",
       "24.0  134205.939041      10.0   5.674498   9.645079   53.802345  171.905186\n",
       "25.0  215597.472232      10.0   3.395878  13.808384   85.618355   73.686546\n",
       "26.0   46493.901462      10.0   2.957145   3.193032   57.756821  130.860787\n",
       "27.0   93651.651172      10.0   5.978680   3.908220   39.991455  206.793959\n",
       "28.0  111457.804940      10.0   2.995099  16.050647   56.217028   84.513058\n",
       "29.0  109649.751162      10.0   2.101373   4.741769   91.608031  230.712337\n",
       "30.0   69886.565661      10.0   2.339200   4.200811   81.476330   84.269023\n",
       "31.0  124786.306025      10.0   5.103938   5.425159   67.658123  153.528140\n",
       "32.0   51753.914360      10.0   1.107816  15.227563   40.064386  232.210806\n",
       "33.0   60495.974203      10.0   2.011319  11.473695   44.860392  229.656731\n",
       "34.0  102555.266011      10.0   1.903332  29.698717   40.744872  200.193211\n",
       "35.0   57877.177000      10.0   1.911155  11.710926   45.915515  160.917905\n",
       "36.0   75845.520526      10.0   3.971309   8.946315   43.712719  201.112234\n",
       "37.0   34359.676952      10.0   2.988588   1.668332   38.136266  234.715243\n",
       "38.0  220279.851647      10.0   1.787678  42.655289   52.269392  142.794531\n",
       "39.0  157646.414929      10.0   8.338462   6.936843   57.219377   74.125464\n",
       "40.0  136521.494891      10.0   3.298020   7.455259   78.480167  194.028258\n",
       "41.0   43533.229999      10.0   2.066090   2.436037   82.608741   58.272453\n",
       "42.0  165777.277817      10.0   5.725873  23.272309   49.901546  107.490618\n",
       "43.0   28894.108989      10.0   2.069151   1.674991   53.855742  189.127181\n",
       "44.0   52751.470436      10.0   2.108554   4.796672   67.390155   78.751612\n",
       "45.0  271784.532353      10.0  12.294765   2.372412   43.694487  163.218825\n",
       "46.0   25859.933344      10.0   1.580747   2.536325   54.742797  155.917138\n",
       "47.0  116204.437000      10.0   1.107723  31.233315   43.980034  225.501549\n",
       "48.0  195083.043319      10.0   8.873900  13.687644   51.133001   96.971997\n",
       "49.0   79675.288631      10.0   2.557032   5.594523   79.032649   49.757644\n",
       "50.0   33511.595687      10.0   1.872268   1.597699   68.596442  168.874620"
      ],
      "text/html": "<div>\n<style scoped>\n    .dataframe tbody tr th:only-of-type {\n        vertical-align: middle;\n    }\n\n    .dataframe tbody tr th {\n        vertical-align: top;\n    }\n\n    .dataframe thead th {\n        text-align: right;\n    }\n</style>\n<table border=\"1\" class=\"dataframe\">\n  <thead>\n    <tr style=\"text-align: right;\">\n      <th></th>\n      <th>Score</th>\n      <th>Nbr itrs</th>\n      <th>z1</th>\n      <th>z2</th>\n      <th>x3</th>\n      <th>x4</th>\n    </tr>\n  </thead>\n  <tbody>\n    <tr>\n      <th>1.0</th>\n      <td>26446.032531</td>\n      <td>10.0</td>\n      <td>1.963551</td>\n      <td>1.233420</td>\n      <td>56.208493</td>\n      <td>188.101222</td>\n    </tr>\n    <tr>\n      <th>2.0</th>\n      <td>82574.232496</td>\n      <td>10.0</td>\n      <td>5.043144</td>\n      <td>2.109175</td>\n      <td>89.348620</td>\n      <td>20.914695</td>\n    </tr>\n    <tr>\n      <th>3.0</th>\n      <td>27213.196844</td>\n      <td>10.0</td>\n      <td>2.311289</td>\n      <td>1.469481</td>\n      <td>74.252881</td>\n      <td>39.903838</td>\n    </tr>\n    <tr>\n      <th>4.0</th>\n      <td>71928.021815</td>\n      <td>10.0</td>\n      <td>3.010379</td>\n      <td>11.104022</td>\n      <td>49.110910</td>\n      <td>128.222285</td>\n    </tr>\n    <tr>\n      <th>5.0</th>\n      <td>44269.077448</td>\n      <td>10.0</td>\n      <td>3.282426</td>\n      <td>2.989003</td>\n      <td>42.422749</td>\n      <td>212.249387</td>\n    </tr>\n    <tr>\n      <th>6.0</th>\n      <td>264220.702670</td>\n      <td>10.0</td>\n      <td>3.957039</td>\n      <td>11.552569</td>\n      <td>92.223019</td>\n      <td>219.952712</td>\n    </tr>\n    <tr>\n      <th>7.0</th>\n      <td>82847.259180</td>\n      <td>10.0</td>\n      <td>2.059841</td>\n      <td>4.511283</td>\n      <td>92.772015</td>\n      <td>45.322374</td>\n    </tr>\n    <tr>\n      <th>8.0</th>\n      <td>27497.102975</td>\n      <td>10.0</td>\n      <td>2.009807</td>\n      <td>3.970352</td>\n      <td>38.092822</td>\n      <td>234.950957</td>\n    </tr>\n    <tr>\n      <th>9.0</th>\n      <td>103060.435245</td>\n      <td>10.0</td>\n      <td>1.246734</td>\n      <td>14.609055</td>\n      <td>60.445743</td>\n      <td>121.309502</td>\n    </tr>\n    <tr>\n      <th>10.0</th>\n      <td>24153.032737</td>\n      <td>10.0</td>\n      <td>0.964143</td>\n      <td>6.403787</td>\n      <td>38.980109</td>\n      <td>232.882345</td>\n    </tr>\n    <tr>\n      <th>11.0</th>\n      <td>73633.561229</td>\n      <td>10.0</td>\n      <td>3.145237</td>\n      <td>12.329053</td>\n      <td>43.927577</td>\n      <td>193.584982</td>\n    </tr>\n    <tr>\n      <th>12.0</th>\n      <td>96339.731528</td>\n      <td>10.0</td>\n      <td>4.290667</td>\n      <td>15.996087</td>\n      <td>41.608579</td>\n      <td>188.308716</td>\n    </tr>\n    <tr>\n      <th>13.0</th>\n      <td>185059.264446</td>\n      <td>10.0</td>\n      <td>9.290813</td>\n      <td>0.790988</td>\n      <td>79.820741</td>\n      <td>53.614337</td>\n    </tr>\n    <tr>\n      <th>14.0</th>\n      <td>166542.045576</td>\n      <td>10.0</td>\n      <td>2.684896</td>\n      <td>44.684154</td>\n      <td>41.911959</td>\n      <td>225.926258</td>\n    </tr>\n    <tr>\n      <th>15.0</th>\n      <td>20964.937915</td>\n      <td>10.0</td>\n      <td>1.376721</td>\n      <td>1.939598</td>\n      <td>60.078420</td>\n      <td>108.864957</td>\n    </tr>\n    <tr>\n      <th>16.0</th>\n      <td>132762.763654</td>\n      <td>10.0</td>\n      <td>3.722426</td>\n      <td>28.187951</td>\n      <td>42.139461</td>\n      <td>227.394171</td>\n    </tr>\n    <tr>\n      <th>17.0</th>\n      <td>134683.736980</td>\n      <td>10.0</td>\n      <td>5.083763</td>\n      <td>3.501446</td>\n      <td>70.423354</td>\n      <td>222.206549</td>\n    </tr>\n    <tr>\n      <th>18.0</th>\n      <td>40648.304925</td>\n      <td>10.0</td>\n      <td>2.919902</td>\n      <td>2.823971</td>\n      <td>48.508654</td>\n      <td>179.133740</td>\n    </tr>\n    <tr>\n      <th>19.0</th>\n      <td>22321.414127</td>\n      <td>10.0</td>\n      <td>1.786925</td>\n      <td>0.671907</td>\n      <td>52.309133</td>\n      <td>230.476319</td>\n    </tr>\n    <tr>\n      <th>20.0</th>\n      <td>131822.765347</td>\n      <td>10.0</td>\n      <td>2.711935</td>\n      <td>4.296150</td>\n      <td>118.083729</td>\n      <td>36.281928</td>\n    </tr>\n    <tr>\n      <th>21.0</th>\n      <td>87686.604133</td>\n      <td>10.0</td>\n      <td>1.919159</td>\n      <td>13.636884</td>\n      <td>53.101006</td>\n      <td>205.548072</td>\n    </tr>\n    <tr>\n      <th>22.0</th>\n      <td>46002.526873</td>\n      <td>10.0</td>\n      <td>1.197896</td>\n      <td>11.395279</td>\n      <td>42.270056</td>\n      <td>238.388301</td>\n    </tr>\n    <tr>\n      <th>23.0</th>\n      <td>141416.338862</td>\n      <td>10.0</td>\n      <td>4.790566</td>\n      <td>19.896983</td>\n      <td>49.432785</td>\n      <td>147.497018</td>\n    </tr>\n    <tr>\n      <th>24.0</th>\n      <td>134205.939041</td>\n      <td>10.0</td>\n      <td>5.674498</td>\n      <td>9.645079</td>\n      <td>53.802345</td>\n      <td>171.905186</td>\n    </tr>\n    <tr>\n      <th>25.0</th>\n      <td>215597.472232</td>\n      <td>10.0</td>\n      <td>3.395878</td>\n      <td>13.808384</td>\n      <td>85.618355</td>\n      <td>73.686546</td>\n    </tr>\n    <tr>\n      <th>26.0</th>\n      <td>46493.901462</td>\n      <td>10.0</td>\n      <td>2.957145</td>\n      <td>3.193032</td>\n      <td>57.756821</td>\n      <td>130.860787</td>\n    </tr>\n    <tr>\n      <th>27.0</th>\n      <td>93651.651172</td>\n      <td>10.0</td>\n      <td>5.978680</td>\n      <td>3.908220</td>\n      <td>39.991455</td>\n      <td>206.793959</td>\n    </tr>\n    <tr>\n      <th>28.0</th>\n      <td>111457.804940</td>\n      <td>10.0</td>\n      <td>2.995099</td>\n      <td>16.050647</td>\n      <td>56.217028</td>\n      <td>84.513058</td>\n    </tr>\n    <tr>\n      <th>29.0</th>\n      <td>109649.751162</td>\n      <td>10.0</td>\n      <td>2.101373</td>\n      <td>4.741769</td>\n      <td>91.608031</td>\n      <td>230.712337</td>\n    </tr>\n    <tr>\n      <th>30.0</th>\n      <td>69886.565661</td>\n      <td>10.0</td>\n      <td>2.339200</td>\n      <td>4.200811</td>\n      <td>81.476330</td>\n      <td>84.269023</td>\n    </tr>\n    <tr>\n      <th>31.0</th>\n      <td>124786.306025</td>\n      <td>10.0</td>\n      <td>5.103938</td>\n      <td>5.425159</td>\n      <td>67.658123</td>\n      <td>153.528140</td>\n    </tr>\n    <tr>\n      <th>32.0</th>\n      <td>51753.914360</td>\n      <td>10.0</td>\n      <td>1.107816</td>\n      <td>15.227563</td>\n      <td>40.064386</td>\n      <td>232.210806</td>\n    </tr>\n    <tr>\n      <th>33.0</th>\n      <td>60495.974203</td>\n      <td>10.0</td>\n      <td>2.011319</td>\n      <td>11.473695</td>\n      <td>44.860392</td>\n      <td>229.656731</td>\n    </tr>\n    <tr>\n      <th>34.0</th>\n      <td>102555.266011</td>\n      <td>10.0</td>\n      <td>1.903332</td>\n      <td>29.698717</td>\n      <td>40.744872</td>\n      <td>200.193211</td>\n    </tr>\n    <tr>\n      <th>35.0</th>\n      <td>57877.177000</td>\n      <td>10.0</td>\n      <td>1.911155</td>\n      <td>11.710926</td>\n      <td>45.915515</td>\n      <td>160.917905</td>\n    </tr>\n    <tr>\n      <th>36.0</th>\n      <td>75845.520526</td>\n      <td>10.0</td>\n      <td>3.971309</td>\n      <td>8.946315</td>\n      <td>43.712719</td>\n      <td>201.112234</td>\n    </tr>\n    <tr>\n      <th>37.0</th>\n      <td>34359.676952</td>\n      <td>10.0</td>\n      <td>2.988588</td>\n      <td>1.668332</td>\n      <td>38.136266</td>\n      <td>234.715243</td>\n    </tr>\n    <tr>\n      <th>38.0</th>\n      <td>220279.851647</td>\n      <td>10.0</td>\n      <td>1.787678</td>\n      <td>42.655289</td>\n      <td>52.269392</td>\n      <td>142.794531</td>\n    </tr>\n    <tr>\n      <th>39.0</th>\n      <td>157646.414929</td>\n      <td>10.0</td>\n      <td>8.338462</td>\n      <td>6.936843</td>\n      <td>57.219377</td>\n      <td>74.125464</td>\n    </tr>\n    <tr>\n      <th>40.0</th>\n      <td>136521.494891</td>\n      <td>10.0</td>\n      <td>3.298020</td>\n      <td>7.455259</td>\n      <td>78.480167</td>\n      <td>194.028258</td>\n    </tr>\n    <tr>\n      <th>41.0</th>\n      <td>43533.229999</td>\n      <td>10.0</td>\n      <td>2.066090</td>\n      <td>2.436037</td>\n      <td>82.608741</td>\n      <td>58.272453</td>\n    </tr>\n    <tr>\n      <th>42.0</th>\n      <td>165777.277817</td>\n      <td>10.0</td>\n      <td>5.725873</td>\n      <td>23.272309</td>\n      <td>49.901546</td>\n      <td>107.490618</td>\n    </tr>\n    <tr>\n      <th>43.0</th>\n      <td>28894.108989</td>\n      <td>10.0</td>\n      <td>2.069151</td>\n      <td>1.674991</td>\n      <td>53.855742</td>\n      <td>189.127181</td>\n    </tr>\n    <tr>\n      <th>44.0</th>\n      <td>52751.470436</td>\n      <td>10.0</td>\n      <td>2.108554</td>\n      <td>4.796672</td>\n      <td>67.390155</td>\n      <td>78.751612</td>\n    </tr>\n    <tr>\n      <th>45.0</th>\n      <td>271784.532353</td>\n      <td>10.0</td>\n      <td>12.294765</td>\n      <td>2.372412</td>\n      <td>43.694487</td>\n      <td>163.218825</td>\n    </tr>\n    <tr>\n      <th>46.0</th>\n      <td>25859.933344</td>\n      <td>10.0</td>\n      <td>1.580747</td>\n      <td>2.536325</td>\n      <td>54.742797</td>\n      <td>155.917138</td>\n    </tr>\n    <tr>\n      <th>47.0</th>\n      <td>116204.437000</td>\n      <td>10.0</td>\n      <td>1.107723</td>\n      <td>31.233315</td>\n      <td>43.980034</td>\n      <td>225.501549</td>\n    </tr>\n    <tr>\n      <th>48.0</th>\n      <td>195083.043319</td>\n      <td>10.0</td>\n      <td>8.873900</td>\n      <td>13.687644</td>\n      <td>51.133001</td>\n      <td>96.971997</td>\n    </tr>\n    <tr>\n      <th>49.0</th>\n      <td>79675.288631</td>\n      <td>10.0</td>\n      <td>2.557032</td>\n      <td>5.594523</td>\n      <td>79.032649</td>\n      <td>49.757644</td>\n    </tr>\n    <tr>\n      <th>50.0</th>\n      <td>33511.595687</td>\n      <td>10.0</td>\n      <td>1.872268</td>\n      <td>1.597699</td>\n      <td>68.596442</td>\n      <td>168.874620</td>\n    </tr>\n  </tbody>\n</table>\n</div>"
     },
     "metadata": {},
     "execution_count": 1064
    }
   ],
   "source": [
    "print_table(hist)"
   ]
  },
  {
   "cell_type": "code",
   "execution_count": 1065,
   "metadata": {},
   "outputs": [
    {
     "output_type": "stream",
     "name": "stdout",
     "text": [
      "Analyse des donnees generees :\n\n"
     ]
    },
    {
     "output_type": "execute_result",
     "data": {
      "text/plain": [
       "               Score  Nbr itrs         z1         z2          x3          x4\n",
       "count      50.000000      50.0  50.000000  50.000000   50.000000   50.000000\n",
       "mean    97004.653787      10.0   2.111111   6.325632   58.958800  156.018834\n",
       "std     64174.407375       0.0   1.451910   6.441052   18.637848   67.048378\n",
       "min     20964.937915      10.0   0.602589   0.419942   38.092822   20.914695\n",
       "25%     44702.439804      10.0   1.206411   1.790768   43.766434   99.601652\n",
       "50%     82710.745838      10.0   1.686510   3.749472   53.451675  170.389903\n",
       "75%    133845.145194      10.0   2.479839   8.546846   69.966626  218.026881\n",
       "max    271784.532353      10.0   7.684228  27.927596  118.083729  238.388301"
      ],
      "text/html": "<div>\n<style scoped>\n    .dataframe tbody tr th:only-of-type {\n        vertical-align: middle;\n    }\n\n    .dataframe tbody tr th {\n        vertical-align: top;\n    }\n\n    .dataframe thead th {\n        text-align: right;\n    }\n</style>\n<table border=\"1\" class=\"dataframe\">\n  <thead>\n    <tr style=\"text-align: right;\">\n      <th></th>\n      <th>Score</th>\n      <th>Nbr itrs</th>\n      <th>z1</th>\n      <th>z2</th>\n      <th>x3</th>\n      <th>x4</th>\n    </tr>\n  </thead>\n  <tbody>\n    <tr>\n      <th>count</th>\n      <td>50.000000</td>\n      <td>50.0</td>\n      <td>50.000000</td>\n      <td>50.000000</td>\n      <td>50.000000</td>\n      <td>50.000000</td>\n    </tr>\n    <tr>\n      <th>mean</th>\n      <td>97004.653787</td>\n      <td>10.0</td>\n      <td>2.111111</td>\n      <td>6.325632</td>\n      <td>58.958800</td>\n      <td>156.018834</td>\n    </tr>\n    <tr>\n      <th>std</th>\n      <td>64174.407375</td>\n      <td>0.0</td>\n      <td>1.451910</td>\n      <td>6.441052</td>\n      <td>18.637848</td>\n      <td>67.048378</td>\n    </tr>\n    <tr>\n      <th>min</th>\n      <td>20964.937915</td>\n      <td>10.0</td>\n      <td>0.602589</td>\n      <td>0.419942</td>\n      <td>38.092822</td>\n      <td>20.914695</td>\n    </tr>\n    <tr>\n      <th>25%</th>\n      <td>44702.439804</td>\n      <td>10.0</td>\n      <td>1.206411</td>\n      <td>1.790768</td>\n      <td>43.766434</td>\n      <td>99.601652</td>\n    </tr>\n    <tr>\n      <th>50%</th>\n      <td>82710.745838</td>\n      <td>10.0</td>\n      <td>1.686510</td>\n      <td>3.749472</td>\n      <td>53.451675</td>\n      <td>170.389903</td>\n    </tr>\n    <tr>\n      <th>75%</th>\n      <td>133845.145194</td>\n      <td>10.0</td>\n      <td>2.479839</td>\n      <td>8.546846</td>\n      <td>69.966626</td>\n      <td>218.026881</td>\n    </tr>\n    <tr>\n      <th>max</th>\n      <td>271784.532353</td>\n      <td>10.0</td>\n      <td>7.684228</td>\n      <td>27.927596</td>\n      <td>118.083729</td>\n      <td>238.388301</td>\n    </tr>\n  </tbody>\n</table>\n</div>"
     },
     "metadata": {},
     "execution_count": 1065
    }
   ],
   "source": [
    "print_analyse(hist)"
   ]
  },
  {
   "cell_type": "markdown",
   "metadata": {},
   "source": [
    "L'algorithme du Hill Climbing : "
   ]
  },
  {
   "cell_type": "code",
   "execution_count": 1066,
   "metadata": {},
   "outputs": [],
   "source": [
    "def hill_climbing(itrs = 100,n = 50, epsilon = 0.001, verbose = False):\n",
    "    i=0\n",
    "    historique = np.empty([0,7])\n",
    "\n",
    "    while(i<n):\n",
    "      i+=1\n",
    "      currentPoint = initialiser_points()\n",
    "      bestScore = cout_soudure(currentPoint)\n",
    "      bestPoint = currentPoint\n",
    "      beforeBestScore = bestScore\n",
    "      k=0 #iterateur \n",
    "      l=0\n",
    "\n",
    "      while(k<itrs):\n",
    "\n",
    "          k+=1   \n",
    "          currentPoint = mutation(currentPoint) \n",
    "          score = cout_soudure(currentPoint)\n",
    "          \n",
    "          beforeBestScore = bestScore\n",
    "\n",
    "          if(score < bestScore):\n",
    "                bestScore = score\n",
    "                bestPoint = currentPoint\n",
    "\n",
    "          if beforeBestScore - bestScore < epsilon :\n",
    "                 l += 1 \n",
    "          else :\n",
    "                 l = 0\n",
    "\n",
    "          if l == 50 : \n",
    "              break\n",
    "          \n",
    "\n",
    "          if verbose :\n",
    "                print(f\"itr : {k}, minimum : {currentPoint},  score : {score}\")\n",
    "    \n",
    "      historique = np.append(historique,[np.append([i,bestScore,k],[bestPoint])],axis=0)\n",
    "\n",
    "    return historique"
   ]
  },
  {
   "source": [
    "while True:\n",
    "    iter = input(\"Entrer le nombre d'iterations : \")\n",
    "    epsilon = input(\"Entrer epsilon ( progres minimal ) : \")\n",
    "\n",
    "    if int(iter) > 0 and float(epsilon) > 0:\n",
    "      break\n",
    "    else:\n",
    "      print(\"Veuillez reesayer!\")\n",
    "hist = hill_climbing(itrs = int(iter), epsilon=float(epsilon))"
   ],
   "cell_type": "code",
   "metadata": {
    "tags": []
   },
   "execution_count": 1067,
   "outputs": [
    {
     "output_type": "stream",
     "name": "stderr",
     "text": [
      "<ipython-input-1047-6b33492640bc>:2: RuntimeWarning: divide by zero encountered in double_scalars\n  return np.asarray([[1,99],[1,100],[1,min(0.625*x[1]/0.00954, 0.625*x[0]/0.0193, 200)],[max(10,1296000/(np.pi*x[2]**2)-4/3*x[2]),240]])\n"
     ]
    }
   ]
  },
  {
   "source": [
    "print_results(hist)"
   ],
   "cell_type": "code",
   "metadata": {},
   "execution_count": 1068,
   "outputs": [
    {
     "output_type": "stream",
     "name": "stdout",
     "text": [
      "meilleurs dimensions : \n z1 = 6.244385214150605 \n z2 = 22.640096624264018 \n x3 = 51.41133320591536 \n x4 = 237.40994015593253\n\nmeilleur score : 155288.89816842816\n\n"
     ]
    }
   ]
  },
  {
   "cell_type": "code",
   "execution_count": 1069,
   "metadata": {},
   "outputs": [
    {
     "output_type": "stream",
     "name": "stdout",
     "text": [
      "historique detaille :\n\n"
     ]
    },
    {
     "output_type": "execute_result",
     "data": {
      "text/plain": [
       "             Score  Nbr itrs         z1         z2          x3          x4\n",
       "1.0   1.360817e+07      10.0  61.512783   2.757661  166.057511   73.344507\n",
       "2.0   1.318264e+06      10.0  12.877405  50.325956   97.069701  127.850539\n",
       "3.0   5.726143e+06      10.0  52.655890  46.837045   75.276884  102.174104\n",
       "4.0   4.820925e+06      10.0  56.175399  32.031550   66.196113   42.010798\n",
       "5.0   4.661274e+06      10.0  33.288750  47.794660  112.638772  229.987234\n",
       "6.0   5.673072e+06      10.0  31.278239  12.739242  187.959317  188.643330\n",
       "7.0   7.041448e+06      10.0  46.945765  21.496941  130.269742   64.602038\n",
       "8.0   4.752305e+06      10.0  44.504272   7.636775   92.039076  137.686750\n",
       "9.0   7.029334e+06      10.0  47.443259  19.827643  119.821431  109.922664\n",
       "10.0  5.101117e+05      10.0   4.657935  43.617987   75.700142  114.813393\n",
       "11.0  1.482733e+07      10.0  53.486439  32.600512  199.742490   85.856533\n",
       "12.0  6.573209e+05      10.0  12.878949  32.291186   62.475679  221.858005\n",
       "13.0  2.731895e+06      10.0  34.562508   3.064138   87.852019  107.146894\n",
       "14.0  5.387905e+05      10.0  13.770843  33.097098   66.484769   45.975030\n",
       "15.0  4.260787e+06      10.0  48.761138  31.199806   51.263092  186.795935\n",
       "16.0  3.512838e+06      10.0  17.571364  59.642383  146.579691  130.353573\n",
       "17.0  2.377627e+06      10.0  39.341324  22.144425   44.286324  158.097478\n",
       "18.0  7.779045e+05      10.0   9.339378  33.161207   97.942760  130.988971\n",
       "19.0  4.087260e+06      10.0   6.160579  62.424836  191.798557  103.326026\n",
       "20.0  1.388630e+07      10.0  54.290275   3.225031  199.770742  135.895880\n",
       "21.0  7.324839e+06      10.0  51.265399  30.721874   98.146228  161.724901\n",
       "22.0  1.479164e+06      10.0  21.373052  19.178555   85.768349  174.310711\n",
       "23.0  8.984011e+06      10.0  51.367697  15.719149  135.981767  107.940730\n",
       "24.0  7.152813e+06      10.0  32.306355  51.919367  166.948749  226.290396\n",
       "25.0  1.470883e+06      10.0  13.365877  51.822570  104.766494  103.077508\n",
       "26.0  7.245072e+05      10.0   3.105116  55.633024   87.319843  112.048501\n",
       "27.0  1.552889e+05      10.0   6.244385  22.640097   51.411333  237.409940\n",
       "28.0  4.385073e+06      10.0  37.444577  56.981115   95.262016  126.732080\n",
       "29.0  3.791586e+05      10.0   4.018719   8.626361  133.110574  168.542150\n",
       "30.0  1.425222e+06      10.0  17.180869  37.174121   85.492490  238.765568\n",
       "31.0  1.272124e+07      10.0  56.648304  50.302633  150.350674   73.647629\n",
       "32.0  3.902818e+05      10.0   2.475636  25.235355   91.768216  147.973427\n",
       "33.0  1.255466e+06      10.0  21.816151  36.919922   71.780812   96.476629\n",
       "34.0  1.050898e+06      10.0  20.583725  48.636875   48.188999  231.721689\n",
       "35.0  2.707874e+06      10.0  19.933002  26.308957  163.927841   48.168588\n",
       "36.0  2.463623e+06      10.0  19.231615  18.591066  158.928094  174.198680\n",
       "37.0  5.282156e+06      10.0  41.701323  22.775212  128.507100   51.720035\n",
       "38.0  6.520714e+06      10.0  59.801290  38.126679   65.671242  122.423559\n",
       "39.0  5.204399e+06      10.0  49.175995  19.535004   60.128041  239.925620\n",
       "40.0  3.153211e+06      10.0  26.830644  36.910506  133.682266   15.740485\n",
       "41.0  6.988855e+06      10.0  40.192698  24.646226  136.930348  210.538426\n",
       "42.0  6.093032e+05      10.0   8.821789  37.427068   89.011843   39.531057\n",
       "43.0  1.249078e+06      10.0   9.988707  41.779609  113.384252   68.163627\n",
       "44.0  2.780114e+06      10.0  28.211453  47.979434   88.635670  208.568735\n",
       "45.0  1.248224e+06      10.0  15.564474   8.729709  132.201209  193.580867\n",
       "46.0  3.324313e+06      10.0  23.368796  56.919647  129.945203   57.312741\n",
       "47.0  8.003893e+06      10.0  45.883074   6.429762  177.893138   30.750978\n",
       "48.0  5.455889e+06      10.0  46.962375  30.919856   97.390763   73.111587\n",
       "49.0  7.182301e+06      10.0  51.981270  17.211673   85.176496  215.222072\n",
       "50.0  5.889294e+05      10.0   5.469611  45.348755   81.275313  138.780547"
      ],
      "text/html": "<div>\n<style scoped>\n    .dataframe tbody tr th:only-of-type {\n        vertical-align: middle;\n    }\n\n    .dataframe tbody tr th {\n        vertical-align: top;\n    }\n\n    .dataframe thead th {\n        text-align: right;\n    }\n</style>\n<table border=\"1\" class=\"dataframe\">\n  <thead>\n    <tr style=\"text-align: right;\">\n      <th></th>\n      <th>Score</th>\n      <th>Nbr itrs</th>\n      <th>z1</th>\n      <th>z2</th>\n      <th>x3</th>\n      <th>x4</th>\n    </tr>\n  </thead>\n  <tbody>\n    <tr>\n      <th>1.0</th>\n      <td>1.360817e+07</td>\n      <td>10.0</td>\n      <td>61.512783</td>\n      <td>2.757661</td>\n      <td>166.057511</td>\n      <td>73.344507</td>\n    </tr>\n    <tr>\n      <th>2.0</th>\n      <td>1.318264e+06</td>\n      <td>10.0</td>\n      <td>12.877405</td>\n      <td>50.325956</td>\n      <td>97.069701</td>\n      <td>127.850539</td>\n    </tr>\n    <tr>\n      <th>3.0</th>\n      <td>5.726143e+06</td>\n      <td>10.0</td>\n      <td>52.655890</td>\n      <td>46.837045</td>\n      <td>75.276884</td>\n      <td>102.174104</td>\n    </tr>\n    <tr>\n      <th>4.0</th>\n      <td>4.820925e+06</td>\n      <td>10.0</td>\n      <td>56.175399</td>\n      <td>32.031550</td>\n      <td>66.196113</td>\n      <td>42.010798</td>\n    </tr>\n    <tr>\n      <th>5.0</th>\n      <td>4.661274e+06</td>\n      <td>10.0</td>\n      <td>33.288750</td>\n      <td>47.794660</td>\n      <td>112.638772</td>\n      <td>229.987234</td>\n    </tr>\n    <tr>\n      <th>6.0</th>\n      <td>5.673072e+06</td>\n      <td>10.0</td>\n      <td>31.278239</td>\n      <td>12.739242</td>\n      <td>187.959317</td>\n      <td>188.643330</td>\n    </tr>\n    <tr>\n      <th>7.0</th>\n      <td>7.041448e+06</td>\n      <td>10.0</td>\n      <td>46.945765</td>\n      <td>21.496941</td>\n      <td>130.269742</td>\n      <td>64.602038</td>\n    </tr>\n    <tr>\n      <th>8.0</th>\n      <td>4.752305e+06</td>\n      <td>10.0</td>\n      <td>44.504272</td>\n      <td>7.636775</td>\n      <td>92.039076</td>\n      <td>137.686750</td>\n    </tr>\n    <tr>\n      <th>9.0</th>\n      <td>7.029334e+06</td>\n      <td>10.0</td>\n      <td>47.443259</td>\n      <td>19.827643</td>\n      <td>119.821431</td>\n      <td>109.922664</td>\n    </tr>\n    <tr>\n      <th>10.0</th>\n      <td>5.101117e+05</td>\n      <td>10.0</td>\n      <td>4.657935</td>\n      <td>43.617987</td>\n      <td>75.700142</td>\n      <td>114.813393</td>\n    </tr>\n    <tr>\n      <th>11.0</th>\n      <td>1.482733e+07</td>\n      <td>10.0</td>\n      <td>53.486439</td>\n      <td>32.600512</td>\n      <td>199.742490</td>\n      <td>85.856533</td>\n    </tr>\n    <tr>\n      <th>12.0</th>\n      <td>6.573209e+05</td>\n      <td>10.0</td>\n      <td>12.878949</td>\n      <td>32.291186</td>\n      <td>62.475679</td>\n      <td>221.858005</td>\n    </tr>\n    <tr>\n      <th>13.0</th>\n      <td>2.731895e+06</td>\n      <td>10.0</td>\n      <td>34.562508</td>\n      <td>3.064138</td>\n      <td>87.852019</td>\n      <td>107.146894</td>\n    </tr>\n    <tr>\n      <th>14.0</th>\n      <td>5.387905e+05</td>\n      <td>10.0</td>\n      <td>13.770843</td>\n      <td>33.097098</td>\n      <td>66.484769</td>\n      <td>45.975030</td>\n    </tr>\n    <tr>\n      <th>15.0</th>\n      <td>4.260787e+06</td>\n      <td>10.0</td>\n      <td>48.761138</td>\n      <td>31.199806</td>\n      <td>51.263092</td>\n      <td>186.795935</td>\n    </tr>\n    <tr>\n      <th>16.0</th>\n      <td>3.512838e+06</td>\n      <td>10.0</td>\n      <td>17.571364</td>\n      <td>59.642383</td>\n      <td>146.579691</td>\n      <td>130.353573</td>\n    </tr>\n    <tr>\n      <th>17.0</th>\n      <td>2.377627e+06</td>\n      <td>10.0</td>\n      <td>39.341324</td>\n      <td>22.144425</td>\n      <td>44.286324</td>\n      <td>158.097478</td>\n    </tr>\n    <tr>\n      <th>18.0</th>\n      <td>7.779045e+05</td>\n      <td>10.0</td>\n      <td>9.339378</td>\n      <td>33.161207</td>\n      <td>97.942760</td>\n      <td>130.988971</td>\n    </tr>\n    <tr>\n      <th>19.0</th>\n      <td>4.087260e+06</td>\n      <td>10.0</td>\n      <td>6.160579</td>\n      <td>62.424836</td>\n      <td>191.798557</td>\n      <td>103.326026</td>\n    </tr>\n    <tr>\n      <th>20.0</th>\n      <td>1.388630e+07</td>\n      <td>10.0</td>\n      <td>54.290275</td>\n      <td>3.225031</td>\n      <td>199.770742</td>\n      <td>135.895880</td>\n    </tr>\n    <tr>\n      <th>21.0</th>\n      <td>7.324839e+06</td>\n      <td>10.0</td>\n      <td>51.265399</td>\n      <td>30.721874</td>\n      <td>98.146228</td>\n      <td>161.724901</td>\n    </tr>\n    <tr>\n      <th>22.0</th>\n      <td>1.479164e+06</td>\n      <td>10.0</td>\n      <td>21.373052</td>\n      <td>19.178555</td>\n      <td>85.768349</td>\n      <td>174.310711</td>\n    </tr>\n    <tr>\n      <th>23.0</th>\n      <td>8.984011e+06</td>\n      <td>10.0</td>\n      <td>51.367697</td>\n      <td>15.719149</td>\n      <td>135.981767</td>\n      <td>107.940730</td>\n    </tr>\n    <tr>\n      <th>24.0</th>\n      <td>7.152813e+06</td>\n      <td>10.0</td>\n      <td>32.306355</td>\n      <td>51.919367</td>\n      <td>166.948749</td>\n      <td>226.290396</td>\n    </tr>\n    <tr>\n      <th>25.0</th>\n      <td>1.470883e+06</td>\n      <td>10.0</td>\n      <td>13.365877</td>\n      <td>51.822570</td>\n      <td>104.766494</td>\n      <td>103.077508</td>\n    </tr>\n    <tr>\n      <th>26.0</th>\n      <td>7.245072e+05</td>\n      <td>10.0</td>\n      <td>3.105116</td>\n      <td>55.633024</td>\n      <td>87.319843</td>\n      <td>112.048501</td>\n    </tr>\n    <tr>\n      <th>27.0</th>\n      <td>1.552889e+05</td>\n      <td>10.0</td>\n      <td>6.244385</td>\n      <td>22.640097</td>\n      <td>51.411333</td>\n      <td>237.409940</td>\n    </tr>\n    <tr>\n      <th>28.0</th>\n      <td>4.385073e+06</td>\n      <td>10.0</td>\n      <td>37.444577</td>\n      <td>56.981115</td>\n      <td>95.262016</td>\n      <td>126.732080</td>\n    </tr>\n    <tr>\n      <th>29.0</th>\n      <td>3.791586e+05</td>\n      <td>10.0</td>\n      <td>4.018719</td>\n      <td>8.626361</td>\n      <td>133.110574</td>\n      <td>168.542150</td>\n    </tr>\n    <tr>\n      <th>30.0</th>\n      <td>1.425222e+06</td>\n      <td>10.0</td>\n      <td>17.180869</td>\n      <td>37.174121</td>\n      <td>85.492490</td>\n      <td>238.765568</td>\n    </tr>\n    <tr>\n      <th>31.0</th>\n      <td>1.272124e+07</td>\n      <td>10.0</td>\n      <td>56.648304</td>\n      <td>50.302633</td>\n      <td>150.350674</td>\n      <td>73.647629</td>\n    </tr>\n    <tr>\n      <th>32.0</th>\n      <td>3.902818e+05</td>\n      <td>10.0</td>\n      <td>2.475636</td>\n      <td>25.235355</td>\n      <td>91.768216</td>\n      <td>147.973427</td>\n    </tr>\n    <tr>\n      <th>33.0</th>\n      <td>1.255466e+06</td>\n      <td>10.0</td>\n      <td>21.816151</td>\n      <td>36.919922</td>\n      <td>71.780812</td>\n      <td>96.476629</td>\n    </tr>\n    <tr>\n      <th>34.0</th>\n      <td>1.050898e+06</td>\n      <td>10.0</td>\n      <td>20.583725</td>\n      <td>48.636875</td>\n      <td>48.188999</td>\n      <td>231.721689</td>\n    </tr>\n    <tr>\n      <th>35.0</th>\n      <td>2.707874e+06</td>\n      <td>10.0</td>\n      <td>19.933002</td>\n      <td>26.308957</td>\n      <td>163.927841</td>\n      <td>48.168588</td>\n    </tr>\n    <tr>\n      <th>36.0</th>\n      <td>2.463623e+06</td>\n      <td>10.0</td>\n      <td>19.231615</td>\n      <td>18.591066</td>\n      <td>158.928094</td>\n      <td>174.198680</td>\n    </tr>\n    <tr>\n      <th>37.0</th>\n      <td>5.282156e+06</td>\n      <td>10.0</td>\n      <td>41.701323</td>\n      <td>22.775212</td>\n      <td>128.507100</td>\n      <td>51.720035</td>\n    </tr>\n    <tr>\n      <th>38.0</th>\n      <td>6.520714e+06</td>\n      <td>10.0</td>\n      <td>59.801290</td>\n      <td>38.126679</td>\n      <td>65.671242</td>\n      <td>122.423559</td>\n    </tr>\n    <tr>\n      <th>39.0</th>\n      <td>5.204399e+06</td>\n      <td>10.0</td>\n      <td>49.175995</td>\n      <td>19.535004</td>\n      <td>60.128041</td>\n      <td>239.925620</td>\n    </tr>\n    <tr>\n      <th>40.0</th>\n      <td>3.153211e+06</td>\n      <td>10.0</td>\n      <td>26.830644</td>\n      <td>36.910506</td>\n      <td>133.682266</td>\n      <td>15.740485</td>\n    </tr>\n    <tr>\n      <th>41.0</th>\n      <td>6.988855e+06</td>\n      <td>10.0</td>\n      <td>40.192698</td>\n      <td>24.646226</td>\n      <td>136.930348</td>\n      <td>210.538426</td>\n    </tr>\n    <tr>\n      <th>42.0</th>\n      <td>6.093032e+05</td>\n      <td>10.0</td>\n      <td>8.821789</td>\n      <td>37.427068</td>\n      <td>89.011843</td>\n      <td>39.531057</td>\n    </tr>\n    <tr>\n      <th>43.0</th>\n      <td>1.249078e+06</td>\n      <td>10.0</td>\n      <td>9.988707</td>\n      <td>41.779609</td>\n      <td>113.384252</td>\n      <td>68.163627</td>\n    </tr>\n    <tr>\n      <th>44.0</th>\n      <td>2.780114e+06</td>\n      <td>10.0</td>\n      <td>28.211453</td>\n      <td>47.979434</td>\n      <td>88.635670</td>\n      <td>208.568735</td>\n    </tr>\n    <tr>\n      <th>45.0</th>\n      <td>1.248224e+06</td>\n      <td>10.0</td>\n      <td>15.564474</td>\n      <td>8.729709</td>\n      <td>132.201209</td>\n      <td>193.580867</td>\n    </tr>\n    <tr>\n      <th>46.0</th>\n      <td>3.324313e+06</td>\n      <td>10.0</td>\n      <td>23.368796</td>\n      <td>56.919647</td>\n      <td>129.945203</td>\n      <td>57.312741</td>\n    </tr>\n    <tr>\n      <th>47.0</th>\n      <td>8.003893e+06</td>\n      <td>10.0</td>\n      <td>45.883074</td>\n      <td>6.429762</td>\n      <td>177.893138</td>\n      <td>30.750978</td>\n    </tr>\n    <tr>\n      <th>48.0</th>\n      <td>5.455889e+06</td>\n      <td>10.0</td>\n      <td>46.962375</td>\n      <td>30.919856</td>\n      <td>97.390763</td>\n      <td>73.111587</td>\n    </tr>\n    <tr>\n      <th>49.0</th>\n      <td>7.182301e+06</td>\n      <td>10.0</td>\n      <td>51.981270</td>\n      <td>17.211673</td>\n      <td>85.176496</td>\n      <td>215.222072</td>\n    </tr>\n    <tr>\n      <th>50.0</th>\n      <td>5.889294e+05</td>\n      <td>10.0</td>\n      <td>5.469611</td>\n      <td>45.348755</td>\n      <td>81.275313</td>\n      <td>138.780547</td>\n    </tr>\n  </tbody>\n</table>\n</div>"
     },
     "metadata": {},
     "execution_count": 1069
    }
   ],
   "source": [
    "print_table(hist)"
   ]
  },
  {
   "cell_type": "code",
   "execution_count": 1070,
   "metadata": {},
   "outputs": [
    {
     "output_type": "stream",
     "name": "stdout",
     "text": [
      "Analyse des donnees generees :\n\n"
     ]
    },
    {
     "output_type": "execute_result",
     "data": {
      "text/plain": [
       "              Score  Nbr itrs         z1         z2          x3          x4\n",
       "count  5.000000e+01      50.0  50.000000  50.000000   50.000000   50.000000\n",
       "mean   4.289216e+06      10.0  18.922706  19.863328  110.404203  131.834583\n",
       "std    3.745407e+06       0.0  11.562295  10.328251   42.335135   63.999823\n",
       "min    1.552889e+05      10.0   1.547273   1.723538   44.286324   15.740485\n",
       "25%    1.250675e+06      10.0   8.416949  12.255103   82.250609   76.699855\n",
       "50%    3.418576e+06      10.0  18.590529  20.100855   97.666761  127.291310\n",
       "75%    6.322071e+06      10.0  29.576899  29.040608  135.406892  183.674629\n",
       "max    1.482733e+07      10.0  38.445490  39.015523  199.770742  239.925620"
      ],
      "text/html": "<div>\n<style scoped>\n    .dataframe tbody tr th:only-of-type {\n        vertical-align: middle;\n    }\n\n    .dataframe tbody tr th {\n        vertical-align: top;\n    }\n\n    .dataframe thead th {\n        text-align: right;\n    }\n</style>\n<table border=\"1\" class=\"dataframe\">\n  <thead>\n    <tr style=\"text-align: right;\">\n      <th></th>\n      <th>Score</th>\n      <th>Nbr itrs</th>\n      <th>z1</th>\n      <th>z2</th>\n      <th>x3</th>\n      <th>x4</th>\n    </tr>\n  </thead>\n  <tbody>\n    <tr>\n      <th>count</th>\n      <td>5.000000e+01</td>\n      <td>50.0</td>\n      <td>50.000000</td>\n      <td>50.000000</td>\n      <td>50.000000</td>\n      <td>50.000000</td>\n    </tr>\n    <tr>\n      <th>mean</th>\n      <td>4.289216e+06</td>\n      <td>10.0</td>\n      <td>18.922706</td>\n      <td>19.863328</td>\n      <td>110.404203</td>\n      <td>131.834583</td>\n    </tr>\n    <tr>\n      <th>std</th>\n      <td>3.745407e+06</td>\n      <td>0.0</td>\n      <td>11.562295</td>\n      <td>10.328251</td>\n      <td>42.335135</td>\n      <td>63.999823</td>\n    </tr>\n    <tr>\n      <th>min</th>\n      <td>1.552889e+05</td>\n      <td>10.0</td>\n      <td>1.547273</td>\n      <td>1.723538</td>\n      <td>44.286324</td>\n      <td>15.740485</td>\n    </tr>\n    <tr>\n      <th>25%</th>\n      <td>1.250675e+06</td>\n      <td>10.0</td>\n      <td>8.416949</td>\n      <td>12.255103</td>\n      <td>82.250609</td>\n      <td>76.699855</td>\n    </tr>\n    <tr>\n      <th>50%</th>\n      <td>3.418576e+06</td>\n      <td>10.0</td>\n      <td>18.590529</td>\n      <td>20.100855</td>\n      <td>97.666761</td>\n      <td>127.291310</td>\n    </tr>\n    <tr>\n      <th>75%</th>\n      <td>6.322071e+06</td>\n      <td>10.0</td>\n      <td>29.576899</td>\n      <td>29.040608</td>\n      <td>135.406892</td>\n      <td>183.674629</td>\n    </tr>\n    <tr>\n      <th>max</th>\n      <td>1.482733e+07</td>\n      <td>10.0</td>\n      <td>38.445490</td>\n      <td>39.015523</td>\n      <td>199.770742</td>\n      <td>239.925620</td>\n    </tr>\n  </tbody>\n</table>\n</div>"
     },
     "metadata": {},
     "execution_count": 1070
    }
   ],
   "source": [
    "print_analyse(hist)"
   ]
  },
  {
   "cell_type": "markdown",
   "metadata": {},
   "source": [
    "L'algorithme du recuit simulé : \n",
    "Après chaque m itérations, on ajoute un nombre aléatoire par la loi uniforme entre 0 et 1. Par défaut, m est fixe à 10 itérations.\n"
   ]
  },
  {
   "cell_type": "code",
   "execution_count": 1071,
   "metadata": {},
   "outputs": [],
   "source": [
    "def recuit_simule(T_init = 400,temperature= calculer_temperature_poly,itrs= 100,n = 50, m=10,epsilon = 0.001, verbose = False):\n",
    "      # T_init ne doit pas etre posee comme ça\n",
    "      \n",
    "    \n",
    "    historique = np.empty([0,7])\n",
    "    i=0\n",
    "    while(i<n):\n",
    "        i+=1\n",
    "        current_point = initialiser_points()\n",
    "        best_point = current_point\n",
    "        current_score = cout_soudure(current_point)\n",
    "        best_score = current_score\n",
    "        bestc_before_score = best_score\n",
    "        k=0 # iterateur \n",
    "        l=0 # iterations pour suivre l'amelioration\n",
    "        while(k<itrs):\n",
    "          k+= 1\n",
    "          \n",
    "          new_point = mutation(current_point)\n",
    "          new_score = cout_soudure(new_point)\n",
    "          \n",
    "          deltaE = new_score - current_score\n",
    "          \n",
    "          best_before_score = best_score\n",
    "\n",
    "          if  deltaE <= 0 :   \n",
    "              current_point = new_point\n",
    "              current_score = new_score\n",
    "              if current_score < best_score:\n",
    "                  best_point = current_point\n",
    "                  best_score = current_score\n",
    "                \n",
    "          else :\n",
    "              T = temperature(k,T_init) + k//m * np.random.uniform(0,1) # Rechauffement apres chaque m iterations\n",
    "              if np.random.uniform(0,1) < proba_acceptance(T,deltaE):\n",
    "                  current_point = new_point\n",
    "                  current_score = new_score\n",
    "  \n",
    "\n",
    "          if best_before_score - best_score < epsilon :  #peu ou pas d'amelioration \n",
    "                 l += 1 \n",
    "          else :\n",
    "                 l = 0\n",
    "\n",
    "          if l == 50 : \n",
    "              current_point = best_point         #Retour au dernier meilleur point\n",
    "              current_score = best_score\n",
    "          \n",
    "\n",
    "          if verbose :\n",
    "                print(f\"itr : {k}, point : {current_point}, score : {current_score}\")\n",
    "                \n",
    "        historique = np.append(historique,[np.append([i,best_score,k],[best_point])],axis=0)\n",
    "\n",
    "    return historique"
   ]
  },
  {
   "cell_type": "markdown",
   "metadata": {},
   "source": [
    "Resultats pour le refroidissement polynomial : "
   ]
  },
  {
   "cell_type": "code",
   "execution_count": 1072,
   "metadata": {
    "tags": []
   },
   "outputs": [
    {
     "output_type": "stream",
     "name": "stderr",
     "text": [
      "<ipython-input-1047-6b33492640bc>:2: RuntimeWarning: divide by zero encountered in double_scalars\n  return np.asarray([[1,99],[1,100],[1,min(0.625*x[1]/0.00954, 0.625*x[0]/0.0193, 200)],[max(10,1296000/(np.pi*x[2]**2)-4/3*x[2]),240]])\n"
     ]
    }
   ],
   "source": [
    "while True:\n",
    "    iter = input(\"Entrer le nombre d'iterations : \")\n",
    "    epsilon = input(\"Entrer epsilon ( progres minimal ) : \")\n",
    "\n",
    "    if int(iter) > 0 and float(epsilon) > 0:\n",
    "      break\n",
    "    else:\n",
    "      print(\"Une des valeurs entrees n'est pas acceptee!\")\n",
    "    \n",
    "hist = recuit_simule(itrs = int(iter), epsilon=float(epsilon))"
   ]
  },
  {
   "cell_type": "code",
   "execution_count": 1073,
   "metadata": {},
   "outputs": [
    {
     "output_type": "stream",
     "name": "stdout",
     "text": [
      "meilleurs dimensions : \n z1 = 6.051209621058784 \n z2 = 10.803206806083788 \n x3 = 65.57144963126603 \n x4 = 218.92439493477983\n\nmeilleur score : 205109.66857755402\n\n"
     ]
    }
   ],
   "source": [
    "print_results(hist)"
   ]
  },
  {
   "cell_type": "code",
   "execution_count": 1074,
   "metadata": {},
   "outputs": [
    {
     "output_type": "stream",
     "name": "stdout",
     "text": [
      "historique detaille :\n\n"
     ]
    },
    {
     "output_type": "execute_result",
     "data": {
      "text/plain": [
       "             Score  Nbr itrs         z1         z2          x3          x4\n",
       "1.0   1.045029e+07      10.0  40.444984  40.659709  193.936377  145.707198\n",
       "2.0   6.399583e+06      10.0  41.185731  50.763870  119.058380  141.068556\n",
       "3.0   2.171174e+06      10.0  24.774792  42.178508   93.266460  119.811462\n",
       "4.0   4.897634e+06      10.0  38.143778  27.107329  135.821421   25.499086\n",
       "5.0   7.550020e+05      10.0   2.926296  30.044106  119.757988   50.793648\n",
       "6.0   9.296921e+06      10.0  57.058660  33.944276   94.320470  195.317029\n",
       "7.0   6.060461e+06      10.0  36.955314  15.989191  174.578577   57.313538\n",
       "8.0   5.420722e+06      10.0  48.420753  50.394747   72.150098  177.309242\n",
       "9.0   1.024110e+07      10.0  45.844159  48.677662  172.589338   82.013695\n",
       "10.0  8.532889e+06      10.0  48.966956  22.821805  125.321643  175.606646\n",
       "11.0  1.014315e+07      10.0  58.281058  54.640566  121.256242   44.626499\n",
       "12.0  1.730081e+06      10.0  30.793587  11.852765   54.458711  158.931519\n",
       "13.0  1.842197e+06      10.0  14.590712  18.539851  181.626054   17.952481\n",
       "14.0  1.198730e+06      10.0  18.012148  16.960618  114.242301   30.232082\n",
       "15.0  2.021178e+06      10.0  18.976605  30.384158  138.787771   31.463642\n",
       "16.0  8.821682e+06      10.0  49.461963  38.242134  116.930347  195.351112\n",
       "17.0  1.202548e+06      10.0  25.550028  43.347155   54.140636  123.991534\n",
       "18.0  4.166630e+06      10.0  25.421963  34.734276  170.172509   87.116065\n",
       "19.0  3.549836e+06      10.0  23.125587  56.460611  136.562802  121.213473\n",
       "20.0  1.434387e+06      10.0   6.089481  43.716065  128.423455  171.231067\n",
       "21.0  1.390617e+07      10.0  49.981192  33.384660  192.979726  173.892781\n",
       "22.0  7.277801e+06      10.0  56.236464  58.261894   91.859824   48.375087\n",
       "23.0  1.635748e+07      10.0  58.539027  43.635130  165.380624  226.503168\n",
       "24.0  9.854490e+05      10.0  20.169052  26.768766   71.915813  189.958405\n",
       "25.0  1.361519e+07      10.0  56.907859  27.013614  142.412276  231.355515\n",
       "26.0  9.045133e+06      10.0  61.305425  39.244781   89.967720  155.476153\n",
       "27.0  2.828172e+06      10.0  40.355655  58.605178   57.058819  118.290527\n",
       "28.0  2.983553e+06      10.0  32.831424  57.636606   77.478254  159.542262\n",
       "29.0  2.179531e+06      10.0   5.419387  58.854758  141.722916   43.247648\n",
       "30.0  1.095667e+07      10.0  47.483016  45.812884  156.745490  176.547802\n",
       "31.0  4.909491e+06      10.0  27.177798  49.376553  168.879134   31.636706\n",
       "32.0  1.105269e+07      10.0  36.541030  61.952066  194.527406  238.265927\n",
       "33.0  6.246029e+06      10.0  46.644952  47.587670  119.822493   31.556758\n",
       "34.0  3.335034e+06      10.0  41.928504  28.012988   67.282849  135.339404\n",
       "35.0  7.430755e+06      10.0  33.024149  38.370704  177.321055  221.817268\n",
       "36.0  1.154033e+06      10.0  20.914173  57.384896   61.958060  108.993942\n",
       "37.0  1.752066e+06      10.0  14.375938  11.892522  199.947280   44.484261\n",
       "38.0  4.928374e+06      10.0  55.322430  28.499254   41.216824  210.592347\n",
       "39.0  2.497507e+05      10.0   2.364010  61.331602   47.189285  222.838230\n",
       "40.0  3.139537e+05      10.0   7.985973  62.442847   42.182605  238.367261\n",
       "41.0  1.503622e+06      10.0   6.747941  40.356250  140.438885   91.635278\n",
       "42.0  5.258842e+05      10.0   5.542623  12.806513  139.767047  151.742311\n",
       "43.0  1.097768e+06      10.0   5.909544  58.049942   97.656219  157.178024\n",
       "44.0  8.620730e+06      10.0  49.864966  32.772231  146.181177   13.218691\n",
       "45.0  6.436590e+06      10.0  44.251078  17.288647  111.422276  212.643724\n",
       "46.0  3.287858e+06      10.0  18.878313  50.680245  148.329676  156.554859\n",
       "47.0  4.324525e+06      10.0  52.872388   1.131473   49.326062  151.220243\n",
       "48.0  5.156201e+06      10.0  26.393014  27.781079  181.528441  196.558087\n",
       "49.0  2.051097e+05      10.0   6.051210  10.803207   65.571450  218.924395\n",
       "50.0  9.070101e+05      10.0  22.447346  39.481160   42.874558  212.367904"
      ],
      "text/html": "<div>\n<style scoped>\n    .dataframe tbody tr th:only-of-type {\n        vertical-align: middle;\n    }\n\n    .dataframe tbody tr th {\n        vertical-align: top;\n    }\n\n    .dataframe thead th {\n        text-align: right;\n    }\n</style>\n<table border=\"1\" class=\"dataframe\">\n  <thead>\n    <tr style=\"text-align: right;\">\n      <th></th>\n      <th>Score</th>\n      <th>Nbr itrs</th>\n      <th>z1</th>\n      <th>z2</th>\n      <th>x3</th>\n      <th>x4</th>\n    </tr>\n  </thead>\n  <tbody>\n    <tr>\n      <th>1.0</th>\n      <td>1.045029e+07</td>\n      <td>10.0</td>\n      <td>40.444984</td>\n      <td>40.659709</td>\n      <td>193.936377</td>\n      <td>145.707198</td>\n    </tr>\n    <tr>\n      <th>2.0</th>\n      <td>6.399583e+06</td>\n      <td>10.0</td>\n      <td>41.185731</td>\n      <td>50.763870</td>\n      <td>119.058380</td>\n      <td>141.068556</td>\n    </tr>\n    <tr>\n      <th>3.0</th>\n      <td>2.171174e+06</td>\n      <td>10.0</td>\n      <td>24.774792</td>\n      <td>42.178508</td>\n      <td>93.266460</td>\n      <td>119.811462</td>\n    </tr>\n    <tr>\n      <th>4.0</th>\n      <td>4.897634e+06</td>\n      <td>10.0</td>\n      <td>38.143778</td>\n      <td>27.107329</td>\n      <td>135.821421</td>\n      <td>25.499086</td>\n    </tr>\n    <tr>\n      <th>5.0</th>\n      <td>7.550020e+05</td>\n      <td>10.0</td>\n      <td>2.926296</td>\n      <td>30.044106</td>\n      <td>119.757988</td>\n      <td>50.793648</td>\n    </tr>\n    <tr>\n      <th>6.0</th>\n      <td>9.296921e+06</td>\n      <td>10.0</td>\n      <td>57.058660</td>\n      <td>33.944276</td>\n      <td>94.320470</td>\n      <td>195.317029</td>\n    </tr>\n    <tr>\n      <th>7.0</th>\n      <td>6.060461e+06</td>\n      <td>10.0</td>\n      <td>36.955314</td>\n      <td>15.989191</td>\n      <td>174.578577</td>\n      <td>57.313538</td>\n    </tr>\n    <tr>\n      <th>8.0</th>\n      <td>5.420722e+06</td>\n      <td>10.0</td>\n      <td>48.420753</td>\n      <td>50.394747</td>\n      <td>72.150098</td>\n      <td>177.309242</td>\n    </tr>\n    <tr>\n      <th>9.0</th>\n      <td>1.024110e+07</td>\n      <td>10.0</td>\n      <td>45.844159</td>\n      <td>48.677662</td>\n      <td>172.589338</td>\n      <td>82.013695</td>\n    </tr>\n    <tr>\n      <th>10.0</th>\n      <td>8.532889e+06</td>\n      <td>10.0</td>\n      <td>48.966956</td>\n      <td>22.821805</td>\n      <td>125.321643</td>\n      <td>175.606646</td>\n    </tr>\n    <tr>\n      <th>11.0</th>\n      <td>1.014315e+07</td>\n      <td>10.0</td>\n      <td>58.281058</td>\n      <td>54.640566</td>\n      <td>121.256242</td>\n      <td>44.626499</td>\n    </tr>\n    <tr>\n      <th>12.0</th>\n      <td>1.730081e+06</td>\n      <td>10.0</td>\n      <td>30.793587</td>\n      <td>11.852765</td>\n      <td>54.458711</td>\n      <td>158.931519</td>\n    </tr>\n    <tr>\n      <th>13.0</th>\n      <td>1.842197e+06</td>\n      <td>10.0</td>\n      <td>14.590712</td>\n      <td>18.539851</td>\n      <td>181.626054</td>\n      <td>17.952481</td>\n    </tr>\n    <tr>\n      <th>14.0</th>\n      <td>1.198730e+06</td>\n      <td>10.0</td>\n      <td>18.012148</td>\n      <td>16.960618</td>\n      <td>114.242301</td>\n      <td>30.232082</td>\n    </tr>\n    <tr>\n      <th>15.0</th>\n      <td>2.021178e+06</td>\n      <td>10.0</td>\n      <td>18.976605</td>\n      <td>30.384158</td>\n      <td>138.787771</td>\n      <td>31.463642</td>\n    </tr>\n    <tr>\n      <th>16.0</th>\n      <td>8.821682e+06</td>\n      <td>10.0</td>\n      <td>49.461963</td>\n      <td>38.242134</td>\n      <td>116.930347</td>\n      <td>195.351112</td>\n    </tr>\n    <tr>\n      <th>17.0</th>\n      <td>1.202548e+06</td>\n      <td>10.0</td>\n      <td>25.550028</td>\n      <td>43.347155</td>\n      <td>54.140636</td>\n      <td>123.991534</td>\n    </tr>\n    <tr>\n      <th>18.0</th>\n      <td>4.166630e+06</td>\n      <td>10.0</td>\n      <td>25.421963</td>\n      <td>34.734276</td>\n      <td>170.172509</td>\n      <td>87.116065</td>\n    </tr>\n    <tr>\n      <th>19.0</th>\n      <td>3.549836e+06</td>\n      <td>10.0</td>\n      <td>23.125587</td>\n      <td>56.460611</td>\n      <td>136.562802</td>\n      <td>121.213473</td>\n    </tr>\n    <tr>\n      <th>20.0</th>\n      <td>1.434387e+06</td>\n      <td>10.0</td>\n      <td>6.089481</td>\n      <td>43.716065</td>\n      <td>128.423455</td>\n      <td>171.231067</td>\n    </tr>\n    <tr>\n      <th>21.0</th>\n      <td>1.390617e+07</td>\n      <td>10.0</td>\n      <td>49.981192</td>\n      <td>33.384660</td>\n      <td>192.979726</td>\n      <td>173.892781</td>\n    </tr>\n    <tr>\n      <th>22.0</th>\n      <td>7.277801e+06</td>\n      <td>10.0</td>\n      <td>56.236464</td>\n      <td>58.261894</td>\n      <td>91.859824</td>\n      <td>48.375087</td>\n    </tr>\n    <tr>\n      <th>23.0</th>\n      <td>1.635748e+07</td>\n      <td>10.0</td>\n      <td>58.539027</td>\n      <td>43.635130</td>\n      <td>165.380624</td>\n      <td>226.503168</td>\n    </tr>\n    <tr>\n      <th>24.0</th>\n      <td>9.854490e+05</td>\n      <td>10.0</td>\n      <td>20.169052</td>\n      <td>26.768766</td>\n      <td>71.915813</td>\n      <td>189.958405</td>\n    </tr>\n    <tr>\n      <th>25.0</th>\n      <td>1.361519e+07</td>\n      <td>10.0</td>\n      <td>56.907859</td>\n      <td>27.013614</td>\n      <td>142.412276</td>\n      <td>231.355515</td>\n    </tr>\n    <tr>\n      <th>26.0</th>\n      <td>9.045133e+06</td>\n      <td>10.0</td>\n      <td>61.305425</td>\n      <td>39.244781</td>\n      <td>89.967720</td>\n      <td>155.476153</td>\n    </tr>\n    <tr>\n      <th>27.0</th>\n      <td>2.828172e+06</td>\n      <td>10.0</td>\n      <td>40.355655</td>\n      <td>58.605178</td>\n      <td>57.058819</td>\n      <td>118.290527</td>\n    </tr>\n    <tr>\n      <th>28.0</th>\n      <td>2.983553e+06</td>\n      <td>10.0</td>\n      <td>32.831424</td>\n      <td>57.636606</td>\n      <td>77.478254</td>\n      <td>159.542262</td>\n    </tr>\n    <tr>\n      <th>29.0</th>\n      <td>2.179531e+06</td>\n      <td>10.0</td>\n      <td>5.419387</td>\n      <td>58.854758</td>\n      <td>141.722916</td>\n      <td>43.247648</td>\n    </tr>\n    <tr>\n      <th>30.0</th>\n      <td>1.095667e+07</td>\n      <td>10.0</td>\n      <td>47.483016</td>\n      <td>45.812884</td>\n      <td>156.745490</td>\n      <td>176.547802</td>\n    </tr>\n    <tr>\n      <th>31.0</th>\n      <td>4.909491e+06</td>\n      <td>10.0</td>\n      <td>27.177798</td>\n      <td>49.376553</td>\n      <td>168.879134</td>\n      <td>31.636706</td>\n    </tr>\n    <tr>\n      <th>32.0</th>\n      <td>1.105269e+07</td>\n      <td>10.0</td>\n      <td>36.541030</td>\n      <td>61.952066</td>\n      <td>194.527406</td>\n      <td>238.265927</td>\n    </tr>\n    <tr>\n      <th>33.0</th>\n      <td>6.246029e+06</td>\n      <td>10.0</td>\n      <td>46.644952</td>\n      <td>47.587670</td>\n      <td>119.822493</td>\n      <td>31.556758</td>\n    </tr>\n    <tr>\n      <th>34.0</th>\n      <td>3.335034e+06</td>\n      <td>10.0</td>\n      <td>41.928504</td>\n      <td>28.012988</td>\n      <td>67.282849</td>\n      <td>135.339404</td>\n    </tr>\n    <tr>\n      <th>35.0</th>\n      <td>7.430755e+06</td>\n      <td>10.0</td>\n      <td>33.024149</td>\n      <td>38.370704</td>\n      <td>177.321055</td>\n      <td>221.817268</td>\n    </tr>\n    <tr>\n      <th>36.0</th>\n      <td>1.154033e+06</td>\n      <td>10.0</td>\n      <td>20.914173</td>\n      <td>57.384896</td>\n      <td>61.958060</td>\n      <td>108.993942</td>\n    </tr>\n    <tr>\n      <th>37.0</th>\n      <td>1.752066e+06</td>\n      <td>10.0</td>\n      <td>14.375938</td>\n      <td>11.892522</td>\n      <td>199.947280</td>\n      <td>44.484261</td>\n    </tr>\n    <tr>\n      <th>38.0</th>\n      <td>4.928374e+06</td>\n      <td>10.0</td>\n      <td>55.322430</td>\n      <td>28.499254</td>\n      <td>41.216824</td>\n      <td>210.592347</td>\n    </tr>\n    <tr>\n      <th>39.0</th>\n      <td>2.497507e+05</td>\n      <td>10.0</td>\n      <td>2.364010</td>\n      <td>61.331602</td>\n      <td>47.189285</td>\n      <td>222.838230</td>\n    </tr>\n    <tr>\n      <th>40.0</th>\n      <td>3.139537e+05</td>\n      <td>10.0</td>\n      <td>7.985973</td>\n      <td>62.442847</td>\n      <td>42.182605</td>\n      <td>238.367261</td>\n    </tr>\n    <tr>\n      <th>41.0</th>\n      <td>1.503622e+06</td>\n      <td>10.0</td>\n      <td>6.747941</td>\n      <td>40.356250</td>\n      <td>140.438885</td>\n      <td>91.635278</td>\n    </tr>\n    <tr>\n      <th>42.0</th>\n      <td>5.258842e+05</td>\n      <td>10.0</td>\n      <td>5.542623</td>\n      <td>12.806513</td>\n      <td>139.767047</td>\n      <td>151.742311</td>\n    </tr>\n    <tr>\n      <th>43.0</th>\n      <td>1.097768e+06</td>\n      <td>10.0</td>\n      <td>5.909544</td>\n      <td>58.049942</td>\n      <td>97.656219</td>\n      <td>157.178024</td>\n    </tr>\n    <tr>\n      <th>44.0</th>\n      <td>8.620730e+06</td>\n      <td>10.0</td>\n      <td>49.864966</td>\n      <td>32.772231</td>\n      <td>146.181177</td>\n      <td>13.218691</td>\n    </tr>\n    <tr>\n      <th>45.0</th>\n      <td>6.436590e+06</td>\n      <td>10.0</td>\n      <td>44.251078</td>\n      <td>17.288647</td>\n      <td>111.422276</td>\n      <td>212.643724</td>\n    </tr>\n    <tr>\n      <th>46.0</th>\n      <td>3.287858e+06</td>\n      <td>10.0</td>\n      <td>18.878313</td>\n      <td>50.680245</td>\n      <td>148.329676</td>\n      <td>156.554859</td>\n    </tr>\n    <tr>\n      <th>47.0</th>\n      <td>4.324525e+06</td>\n      <td>10.0</td>\n      <td>52.872388</td>\n      <td>1.131473</td>\n      <td>49.326062</td>\n      <td>151.220243</td>\n    </tr>\n    <tr>\n      <th>48.0</th>\n      <td>5.156201e+06</td>\n      <td>10.0</td>\n      <td>26.393014</td>\n      <td>27.781079</td>\n      <td>181.528441</td>\n      <td>196.558087</td>\n    </tr>\n    <tr>\n      <th>49.0</th>\n      <td>2.051097e+05</td>\n      <td>10.0</td>\n      <td>6.051210</td>\n      <td>10.803207</td>\n      <td>65.571450</td>\n      <td>218.924395</td>\n    </tr>\n    <tr>\n      <th>50.0</th>\n      <td>9.070101e+05</td>\n      <td>10.0</td>\n      <td>22.447346</td>\n      <td>39.481160</td>\n      <td>42.874558</td>\n      <td>212.367904</td>\n    </tr>\n  </tbody>\n</table>\n</div>"
     },
     "metadata": {},
     "execution_count": 1074
    }
   ],
   "source": [
    "print_table(hist)"
   ]
  },
  {
   "cell_type": "code",
   "execution_count": 1075,
   "metadata": {},
   "outputs": [
    {
     "output_type": "stream",
     "name": "stdout",
     "text": [
      "Analyse des donnees generees :\n\n"
     ]
    },
    {
     "output_type": "execute_result",
     "data": {
      "text/plain": [
       "              Score  Nbr itrs         z1         z2          x3          x4\n",
       "count  5.000000e+01      50.0  50.000000  50.000000   50.000000   50.000000\n",
       "mean   5.078177e+06      10.0  20.118630  23.733494  118.966916  134.433491\n",
       "std    4.108354e+06       0.0  11.267012  10.057414   47.845463   70.251724\n",
       "min    2.051097e+05      10.0   1.477506   0.707171   41.216824   13.218691\n",
       "25%    1.560236e+06      10.0  11.814304  17.047354   73.482137   63.488577\n",
       "50%    4.245577e+06      10.0  20.579866  24.601856  120.539368  151.481277\n",
       "75%    8.257356e+06      10.0  30.116449  31.630544  154.641536  193.977373\n",
       "max    1.635748e+07      10.0  38.315891  39.026779  199.947280  238.367261"
      ],
      "text/html": "<div>\n<style scoped>\n    .dataframe tbody tr th:only-of-type {\n        vertical-align: middle;\n    }\n\n    .dataframe tbody tr th {\n        vertical-align: top;\n    }\n\n    .dataframe thead th {\n        text-align: right;\n    }\n</style>\n<table border=\"1\" class=\"dataframe\">\n  <thead>\n    <tr style=\"text-align: right;\">\n      <th></th>\n      <th>Score</th>\n      <th>Nbr itrs</th>\n      <th>z1</th>\n      <th>z2</th>\n      <th>x3</th>\n      <th>x4</th>\n    </tr>\n  </thead>\n  <tbody>\n    <tr>\n      <th>count</th>\n      <td>5.000000e+01</td>\n      <td>50.0</td>\n      <td>50.000000</td>\n      <td>50.000000</td>\n      <td>50.000000</td>\n      <td>50.000000</td>\n    </tr>\n    <tr>\n      <th>mean</th>\n      <td>5.078177e+06</td>\n      <td>10.0</td>\n      <td>20.118630</td>\n      <td>23.733494</td>\n      <td>118.966916</td>\n      <td>134.433491</td>\n    </tr>\n    <tr>\n      <th>std</th>\n      <td>4.108354e+06</td>\n      <td>0.0</td>\n      <td>11.267012</td>\n      <td>10.057414</td>\n      <td>47.845463</td>\n      <td>70.251724</td>\n    </tr>\n    <tr>\n      <th>min</th>\n      <td>2.051097e+05</td>\n      <td>10.0</td>\n      <td>1.477506</td>\n      <td>0.707171</td>\n      <td>41.216824</td>\n      <td>13.218691</td>\n    </tr>\n    <tr>\n      <th>25%</th>\n      <td>1.560236e+06</td>\n      <td>10.0</td>\n      <td>11.814304</td>\n      <td>17.047354</td>\n      <td>73.482137</td>\n      <td>63.488577</td>\n    </tr>\n    <tr>\n      <th>50%</th>\n      <td>4.245577e+06</td>\n      <td>10.0</td>\n      <td>20.579866</td>\n      <td>24.601856</td>\n      <td>120.539368</td>\n      <td>151.481277</td>\n    </tr>\n    <tr>\n      <th>75%</th>\n      <td>8.257356e+06</td>\n      <td>10.0</td>\n      <td>30.116449</td>\n      <td>31.630544</td>\n      <td>154.641536</td>\n      <td>193.977373</td>\n    </tr>\n    <tr>\n      <th>max</th>\n      <td>1.635748e+07</td>\n      <td>10.0</td>\n      <td>38.315891</td>\n      <td>39.026779</td>\n      <td>199.947280</td>\n      <td>238.367261</td>\n    </tr>\n  </tbody>\n</table>\n</div>"
     },
     "metadata": {},
     "execution_count": 1075
    }
   ],
   "source": [
    "print_analyse(hist)"
   ]
  },
  {
   "cell_type": "markdown",
   "metadata": {},
   "source": [
    "Resultats pour le refroidissement exponentiel : "
   ]
  },
  {
   "cell_type": "code",
   "execution_count": 1076,
   "metadata": {
    "tags": []
   },
   "outputs": [
    {
     "output_type": "stream",
     "name": "stderr",
     "text": [
      "<ipython-input-1047-6b33492640bc>:2: RuntimeWarning: divide by zero encountered in double_scalars\n  return np.asarray([[1,99],[1,100],[1,min(0.625*x[1]/0.00954, 0.625*x[0]/0.0193, 200)],[max(10,1296000/(np.pi*x[2]**2)-4/3*x[2]),240]])\n"
     ]
    }
   ],
   "source": [
    "while True:\n",
    "    iter = input(\"Entrer le nombre d'iterations : \")\n",
    "    epsilon = input(\"Entrer epsilon ( progres minimal ) : \")\n",
    "\n",
    "    if int(iter) > 0 and float(epsilon) > 0:\n",
    "      break\n",
    "    else:\n",
    "      print(\"Une des valeurs entrees n'est pas acceptee!\")\n",
    "    \n",
    "hist = recuit_simule(temperature = calculer_temperature_expo,itrs = int(iter), epsilon=float(epsilon))"
   ]
  },
  {
   "cell_type": "code",
   "execution_count": 1077,
   "metadata": {},
   "outputs": [
    {
     "output_type": "stream",
     "name": "stdout",
     "text": [
      "meilleurs dimensions : \n z1 = 1.5666855005764102 \n z2 = 1.4619529692213185 \n x3 = 78.79538203279509 \n x4 = 236.98973914469838\n\nmeilleur score : 33569.129424975254\n\n"
     ]
    }
   ],
   "source": [
    "print_results(hist)"
   ]
  },
  {
   "cell_type": "code",
   "execution_count": 1078,
   "metadata": {},
   "outputs": [
    {
     "output_type": "stream",
     "name": "stdout",
     "text": [
      "historique detaille :\n\n"
     ]
    },
    {
     "output_type": "execute_result",
     "data": {
      "text/plain": [
       "             Score  Nbr itrs         z1         z2          x3          x4\n",
       "1.0   2.300645e+06      10.0  37.046451  21.966084   44.432158  196.210233\n",
       "2.0   2.993442e+06      10.0  12.682936  45.753551  168.052232   95.786368\n",
       "3.0   7.989012e+06      10.0  34.139303  53.201009  167.474103  208.525453\n",
       "4.0   6.079104e+06      10.0  53.630260  22.151267   74.401049  190.381696\n",
       "5.0   1.219749e+06      10.0   9.361609  17.664856  160.234735  119.381867\n",
       "6.0   5.543292e+06      10.0  37.153816  17.955182  167.426908   54.603844\n",
       "7.0   3.913124e+06      10.0  36.496789  61.397690   92.199682   98.748188\n",
       "8.0   1.389267e+06      10.0  13.795938  16.573594  143.052134  191.028324\n",
       "9.0   7.469613e+06      10.0  49.731573  12.635006  146.377878   47.950934\n",
       "10.0  9.704645e+05      10.0  21.041561  18.716166   57.440169  202.403447\n",
       "11.0  7.123384e+06      10.0  33.438395  48.333677  161.946453  230.711149\n",
       "12.0  8.609436e+06      10.0  41.032398  51.788738  168.218932   49.859273\n",
       "13.0  3.593955e+06      10.0  34.554973  29.672943  105.160671   91.381086\n",
       "14.0  1.559533e+07      10.0  57.120197  37.500627  177.656682  135.283987\n",
       "15.0  3.654740e+06      10.0  34.728439  14.549744  132.484361   29.266382\n",
       "16.0  3.417131e+06      10.0  22.077071  36.506232  153.198676  112.997395\n",
       "17.0  4.889099e+05      10.0   6.785665  34.454699   76.087689  209.852685\n",
       "18.0  1.298848e+07      10.0  61.512521  12.921873  162.575879   44.837138\n",
       "19.0  1.689567e+07      10.0  57.186675  11.524981  193.867473  207.001761\n",
       "20.0  9.382186e+05      10.0  20.184642  25.289851   59.564135  145.816815\n",
       "21.0  2.654846e+06      10.0  38.794024  28.542962   65.086709   88.108702\n",
       "22.0  2.218928e+06      10.0   6.579609  33.570580  177.003614  238.147998\n",
       "23.0  1.493709e+06      10.0  22.285792  18.082506   96.781974   81.953953\n",
       "24.0  3.492776e+05      10.0   3.026717   7.508611  153.448428   22.063811\n",
       "25.0  2.538777e+06      10.0  36.347161  22.124240   68.668662  114.030875\n",
       "26.0  7.729626e+06      10.0  48.883321  22.850582  117.647411  147.749519\n",
       "27.0  8.057558e+05      10.0  15.583130  29.060149   79.100020   65.991573\n",
       "28.0  5.610951e+06      10.0  45.929794  51.741449   82.415207  171.889978\n",
       "29.0  1.512141e+06      10.0  17.987312  23.432146  118.092397  119.087657\n",
       "30.0  7.003882e+06      10.0  57.443454  17.957731   66.291408  199.878524\n",
       "31.0  3.913685e+06      10.0  27.172710  44.079366  127.191769  174.318436\n",
       "32.0  5.679241e+06      10.0  18.754716  62.335048  197.135768  154.710849\n",
       "33.0  1.426767e+07      10.0  61.419052  59.976195  136.785049  162.384255\n",
       "34.0  1.651715e+06      10.0  14.027181  17.188187  162.731601  129.321134\n",
       "35.0  3.986951e+06      10.0  36.277267  11.770374  119.354631  136.198353\n",
       "36.0  3.356913e+04      10.0   1.566686   1.461953   78.795382  236.989739\n",
       "37.0  1.110916e+06      10.0  18.162528  49.118950   79.644525   19.389830\n",
       "38.0  1.594129e+07      10.0  54.206192  29.641541  186.720285  212.101084\n",
       "39.0  6.372201e+06      10.0  26.471368  61.402385  180.855370   69.000227\n",
       "40.0  9.590987e+06      10.0  42.248248  44.841111  166.158487  155.532001\n",
       "41.0  1.986331e+06      10.0  19.871624  33.063194  130.074890   55.822648\n",
       "42.0  1.370036e+07      10.0  59.010848  38.915520  167.049208   26.358060\n",
       "43.0  3.161058e+06      10.0  29.828632  17.382335  120.956154  120.436470\n",
       "44.0  3.759676e+06      10.0  15.307013  42.984370  191.376600   27.591157\n",
       "45.0  1.068481e+06      10.0  14.186334  37.062459  103.736898   46.335828\n",
       "46.0  4.342666e+06      10.0  49.078811   6.340272   65.209706  132.188578\n",
       "47.0  2.733006e+06      10.0   9.312883  42.009341  178.570597   33.478557\n",
       "48.0  1.468514e+07      10.0  58.335115   7.105078  165.365359  239.119552\n",
       "49.0  1.633991e+05      10.0  15.053293   1.717006  176.600295   23.352710\n",
       "50.0  8.677899e+06      10.0  43.441547  21.279047  158.819396  192.482015"
      ],
      "text/html": "<div>\n<style scoped>\n    .dataframe tbody tr th:only-of-type {\n        vertical-align: middle;\n    }\n\n    .dataframe tbody tr th {\n        vertical-align: top;\n    }\n\n    .dataframe thead th {\n        text-align: right;\n    }\n</style>\n<table border=\"1\" class=\"dataframe\">\n  <thead>\n    <tr style=\"text-align: right;\">\n      <th></th>\n      <th>Score</th>\n      <th>Nbr itrs</th>\n      <th>z1</th>\n      <th>z2</th>\n      <th>x3</th>\n      <th>x4</th>\n    </tr>\n  </thead>\n  <tbody>\n    <tr>\n      <th>1.0</th>\n      <td>2.300645e+06</td>\n      <td>10.0</td>\n      <td>37.046451</td>\n      <td>21.966084</td>\n      <td>44.432158</td>\n      <td>196.210233</td>\n    </tr>\n    <tr>\n      <th>2.0</th>\n      <td>2.993442e+06</td>\n      <td>10.0</td>\n      <td>12.682936</td>\n      <td>45.753551</td>\n      <td>168.052232</td>\n      <td>95.786368</td>\n    </tr>\n    <tr>\n      <th>3.0</th>\n      <td>7.989012e+06</td>\n      <td>10.0</td>\n      <td>34.139303</td>\n      <td>53.201009</td>\n      <td>167.474103</td>\n      <td>208.525453</td>\n    </tr>\n    <tr>\n      <th>4.0</th>\n      <td>6.079104e+06</td>\n      <td>10.0</td>\n      <td>53.630260</td>\n      <td>22.151267</td>\n      <td>74.401049</td>\n      <td>190.381696</td>\n    </tr>\n    <tr>\n      <th>5.0</th>\n      <td>1.219749e+06</td>\n      <td>10.0</td>\n      <td>9.361609</td>\n      <td>17.664856</td>\n      <td>160.234735</td>\n      <td>119.381867</td>\n    </tr>\n    <tr>\n      <th>6.0</th>\n      <td>5.543292e+06</td>\n      <td>10.0</td>\n      <td>37.153816</td>\n      <td>17.955182</td>\n      <td>167.426908</td>\n      <td>54.603844</td>\n    </tr>\n    <tr>\n      <th>7.0</th>\n      <td>3.913124e+06</td>\n      <td>10.0</td>\n      <td>36.496789</td>\n      <td>61.397690</td>\n      <td>92.199682</td>\n      <td>98.748188</td>\n    </tr>\n    <tr>\n      <th>8.0</th>\n      <td>1.389267e+06</td>\n      <td>10.0</td>\n      <td>13.795938</td>\n      <td>16.573594</td>\n      <td>143.052134</td>\n      <td>191.028324</td>\n    </tr>\n    <tr>\n      <th>9.0</th>\n      <td>7.469613e+06</td>\n      <td>10.0</td>\n      <td>49.731573</td>\n      <td>12.635006</td>\n      <td>146.377878</td>\n      <td>47.950934</td>\n    </tr>\n    <tr>\n      <th>10.0</th>\n      <td>9.704645e+05</td>\n      <td>10.0</td>\n      <td>21.041561</td>\n      <td>18.716166</td>\n      <td>57.440169</td>\n      <td>202.403447</td>\n    </tr>\n    <tr>\n      <th>11.0</th>\n      <td>7.123384e+06</td>\n      <td>10.0</td>\n      <td>33.438395</td>\n      <td>48.333677</td>\n      <td>161.946453</td>\n      <td>230.711149</td>\n    </tr>\n    <tr>\n      <th>12.0</th>\n      <td>8.609436e+06</td>\n      <td>10.0</td>\n      <td>41.032398</td>\n      <td>51.788738</td>\n      <td>168.218932</td>\n      <td>49.859273</td>\n    </tr>\n    <tr>\n      <th>13.0</th>\n      <td>3.593955e+06</td>\n      <td>10.0</td>\n      <td>34.554973</td>\n      <td>29.672943</td>\n      <td>105.160671</td>\n      <td>91.381086</td>\n    </tr>\n    <tr>\n      <th>14.0</th>\n      <td>1.559533e+07</td>\n      <td>10.0</td>\n      <td>57.120197</td>\n      <td>37.500627</td>\n      <td>177.656682</td>\n      <td>135.283987</td>\n    </tr>\n    <tr>\n      <th>15.0</th>\n      <td>3.654740e+06</td>\n      <td>10.0</td>\n      <td>34.728439</td>\n      <td>14.549744</td>\n      <td>132.484361</td>\n      <td>29.266382</td>\n    </tr>\n    <tr>\n      <th>16.0</th>\n      <td>3.417131e+06</td>\n      <td>10.0</td>\n      <td>22.077071</td>\n      <td>36.506232</td>\n      <td>153.198676</td>\n      <td>112.997395</td>\n    </tr>\n    <tr>\n      <th>17.0</th>\n      <td>4.889099e+05</td>\n      <td>10.0</td>\n      <td>6.785665</td>\n      <td>34.454699</td>\n      <td>76.087689</td>\n      <td>209.852685</td>\n    </tr>\n    <tr>\n      <th>18.0</th>\n      <td>1.298848e+07</td>\n      <td>10.0</td>\n      <td>61.512521</td>\n      <td>12.921873</td>\n      <td>162.575879</td>\n      <td>44.837138</td>\n    </tr>\n    <tr>\n      <th>19.0</th>\n      <td>1.689567e+07</td>\n      <td>10.0</td>\n      <td>57.186675</td>\n      <td>11.524981</td>\n      <td>193.867473</td>\n      <td>207.001761</td>\n    </tr>\n    <tr>\n      <th>20.0</th>\n      <td>9.382186e+05</td>\n      <td>10.0</td>\n      <td>20.184642</td>\n      <td>25.289851</td>\n      <td>59.564135</td>\n      <td>145.816815</td>\n    </tr>\n    <tr>\n      <th>21.0</th>\n      <td>2.654846e+06</td>\n      <td>10.0</td>\n      <td>38.794024</td>\n      <td>28.542962</td>\n      <td>65.086709</td>\n      <td>88.108702</td>\n    </tr>\n    <tr>\n      <th>22.0</th>\n      <td>2.218928e+06</td>\n      <td>10.0</td>\n      <td>6.579609</td>\n      <td>33.570580</td>\n      <td>177.003614</td>\n      <td>238.147998</td>\n    </tr>\n    <tr>\n      <th>23.0</th>\n      <td>1.493709e+06</td>\n      <td>10.0</td>\n      <td>22.285792</td>\n      <td>18.082506</td>\n      <td>96.781974</td>\n      <td>81.953953</td>\n    </tr>\n    <tr>\n      <th>24.0</th>\n      <td>3.492776e+05</td>\n      <td>10.0</td>\n      <td>3.026717</td>\n      <td>7.508611</td>\n      <td>153.448428</td>\n      <td>22.063811</td>\n    </tr>\n    <tr>\n      <th>25.0</th>\n      <td>2.538777e+06</td>\n      <td>10.0</td>\n      <td>36.347161</td>\n      <td>22.124240</td>\n      <td>68.668662</td>\n      <td>114.030875</td>\n    </tr>\n    <tr>\n      <th>26.0</th>\n      <td>7.729626e+06</td>\n      <td>10.0</td>\n      <td>48.883321</td>\n      <td>22.850582</td>\n      <td>117.647411</td>\n      <td>147.749519</td>\n    </tr>\n    <tr>\n      <th>27.0</th>\n      <td>8.057558e+05</td>\n      <td>10.0</td>\n      <td>15.583130</td>\n      <td>29.060149</td>\n      <td>79.100020</td>\n      <td>65.991573</td>\n    </tr>\n    <tr>\n      <th>28.0</th>\n      <td>5.610951e+06</td>\n      <td>10.0</td>\n      <td>45.929794</td>\n      <td>51.741449</td>\n      <td>82.415207</td>\n      <td>171.889978</td>\n    </tr>\n    <tr>\n      <th>29.0</th>\n      <td>1.512141e+06</td>\n      <td>10.0</td>\n      <td>17.987312</td>\n      <td>23.432146</td>\n      <td>118.092397</td>\n      <td>119.087657</td>\n    </tr>\n    <tr>\n      <th>30.0</th>\n      <td>7.003882e+06</td>\n      <td>10.0</td>\n      <td>57.443454</td>\n      <td>17.957731</td>\n      <td>66.291408</td>\n      <td>199.878524</td>\n    </tr>\n    <tr>\n      <th>31.0</th>\n      <td>3.913685e+06</td>\n      <td>10.0</td>\n      <td>27.172710</td>\n      <td>44.079366</td>\n      <td>127.191769</td>\n      <td>174.318436</td>\n    </tr>\n    <tr>\n      <th>32.0</th>\n      <td>5.679241e+06</td>\n      <td>10.0</td>\n      <td>18.754716</td>\n      <td>62.335048</td>\n      <td>197.135768</td>\n      <td>154.710849</td>\n    </tr>\n    <tr>\n      <th>33.0</th>\n      <td>1.426767e+07</td>\n      <td>10.0</td>\n      <td>61.419052</td>\n      <td>59.976195</td>\n      <td>136.785049</td>\n      <td>162.384255</td>\n    </tr>\n    <tr>\n      <th>34.0</th>\n      <td>1.651715e+06</td>\n      <td>10.0</td>\n      <td>14.027181</td>\n      <td>17.188187</td>\n      <td>162.731601</td>\n      <td>129.321134</td>\n    </tr>\n    <tr>\n      <th>35.0</th>\n      <td>3.986951e+06</td>\n      <td>10.0</td>\n      <td>36.277267</td>\n      <td>11.770374</td>\n      <td>119.354631</td>\n      <td>136.198353</td>\n    </tr>\n    <tr>\n      <th>36.0</th>\n      <td>3.356913e+04</td>\n      <td>10.0</td>\n      <td>1.566686</td>\n      <td>1.461953</td>\n      <td>78.795382</td>\n      <td>236.989739</td>\n    </tr>\n    <tr>\n      <th>37.0</th>\n      <td>1.110916e+06</td>\n      <td>10.0</td>\n      <td>18.162528</td>\n      <td>49.118950</td>\n      <td>79.644525</td>\n      <td>19.389830</td>\n    </tr>\n    <tr>\n      <th>38.0</th>\n      <td>1.594129e+07</td>\n      <td>10.0</td>\n      <td>54.206192</td>\n      <td>29.641541</td>\n      <td>186.720285</td>\n      <td>212.101084</td>\n    </tr>\n    <tr>\n      <th>39.0</th>\n      <td>6.372201e+06</td>\n      <td>10.0</td>\n      <td>26.471368</td>\n      <td>61.402385</td>\n      <td>180.855370</td>\n      <td>69.000227</td>\n    </tr>\n    <tr>\n      <th>40.0</th>\n      <td>9.590987e+06</td>\n      <td>10.0</td>\n      <td>42.248248</td>\n      <td>44.841111</td>\n      <td>166.158487</td>\n      <td>155.532001</td>\n    </tr>\n    <tr>\n      <th>41.0</th>\n      <td>1.986331e+06</td>\n      <td>10.0</td>\n      <td>19.871624</td>\n      <td>33.063194</td>\n      <td>130.074890</td>\n      <td>55.822648</td>\n    </tr>\n    <tr>\n      <th>42.0</th>\n      <td>1.370036e+07</td>\n      <td>10.0</td>\n      <td>59.010848</td>\n      <td>38.915520</td>\n      <td>167.049208</td>\n      <td>26.358060</td>\n    </tr>\n    <tr>\n      <th>43.0</th>\n      <td>3.161058e+06</td>\n      <td>10.0</td>\n      <td>29.828632</td>\n      <td>17.382335</td>\n      <td>120.956154</td>\n      <td>120.436470</td>\n    </tr>\n    <tr>\n      <th>44.0</th>\n      <td>3.759676e+06</td>\n      <td>10.0</td>\n      <td>15.307013</td>\n      <td>42.984370</td>\n      <td>191.376600</td>\n      <td>27.591157</td>\n    </tr>\n    <tr>\n      <th>45.0</th>\n      <td>1.068481e+06</td>\n      <td>10.0</td>\n      <td>14.186334</td>\n      <td>37.062459</td>\n      <td>103.736898</td>\n      <td>46.335828</td>\n    </tr>\n    <tr>\n      <th>46.0</th>\n      <td>4.342666e+06</td>\n      <td>10.0</td>\n      <td>49.078811</td>\n      <td>6.340272</td>\n      <td>65.209706</td>\n      <td>132.188578</td>\n    </tr>\n    <tr>\n      <th>47.0</th>\n      <td>2.733006e+06</td>\n      <td>10.0</td>\n      <td>9.312883</td>\n      <td>42.009341</td>\n      <td>178.570597</td>\n      <td>33.478557</td>\n    </tr>\n    <tr>\n      <th>48.0</th>\n      <td>1.468514e+07</td>\n      <td>10.0</td>\n      <td>58.335115</td>\n      <td>7.105078</td>\n      <td>165.365359</td>\n      <td>239.119552</td>\n    </tr>\n    <tr>\n      <th>49.0</th>\n      <td>1.633991e+05</td>\n      <td>10.0</td>\n      <td>15.053293</td>\n      <td>1.717006</td>\n      <td>176.600295</td>\n      <td>23.352710</td>\n    </tr>\n    <tr>\n      <th>50.0</th>\n      <td>8.677899e+06</td>\n      <td>10.0</td>\n      <td>43.441547</td>\n      <td>21.279047</td>\n      <td>158.819396</td>\n      <td>192.482015</td>\n    </tr>\n  </tbody>\n</table>\n</div>"
     },
     "metadata": {},
     "execution_count": 1078
    }
   ],
   "source": [
    "print_table(hist)"
   ]
  },
  {
   "cell_type": "code",
   "execution_count": 1079,
   "metadata": {},
   "outputs": [
    {
     "output_type": "stream",
     "name": "stdout",
     "text": [
      "Analyse des donnees generees :\n\n"
     ]
    },
    {
     "output_type": "execute_result",
     "data": {
      "text/plain": [
       "              Score  Nbr itrs         z1         z2          x3          x4\n",
       "count  5.000000e+01      50.0  50.000000  50.000000   50.000000   50.000000\n",
       "mean   5.238342e+06      10.0  19.753670  18.438781  130.590396  125.160842\n",
       "std    4.665248e+06       0.0  10.964710  10.431272   44.583899   68.900597\n",
       "min    3.356913e+04      10.0   0.979178   0.913721   44.432158   19.389830\n",
       "25%    1.547035e+06      10.0  10.115110  10.908103   84.861325   58.364879\n",
       "50%    3.707208e+06      10.0  21.118031  16.822754  139.918591  124.878802\n",
       "75%    7.383056e+06      10.0  28.317333  26.712883  167.332483  190.866667\n",
       "max    1.689567e+07      10.0  38.445325  38.959405  197.135768  239.119552"
      ],
      "text/html": "<div>\n<style scoped>\n    .dataframe tbody tr th:only-of-type {\n        vertical-align: middle;\n    }\n\n    .dataframe tbody tr th {\n        vertical-align: top;\n    }\n\n    .dataframe thead th {\n        text-align: right;\n    }\n</style>\n<table border=\"1\" class=\"dataframe\">\n  <thead>\n    <tr style=\"text-align: right;\">\n      <th></th>\n      <th>Score</th>\n      <th>Nbr itrs</th>\n      <th>z1</th>\n      <th>z2</th>\n      <th>x3</th>\n      <th>x4</th>\n    </tr>\n  </thead>\n  <tbody>\n    <tr>\n      <th>count</th>\n      <td>5.000000e+01</td>\n      <td>50.0</td>\n      <td>50.000000</td>\n      <td>50.000000</td>\n      <td>50.000000</td>\n      <td>50.000000</td>\n    </tr>\n    <tr>\n      <th>mean</th>\n      <td>5.238342e+06</td>\n      <td>10.0</td>\n      <td>19.753670</td>\n      <td>18.438781</td>\n      <td>130.590396</td>\n      <td>125.160842</td>\n    </tr>\n    <tr>\n      <th>std</th>\n      <td>4.665248e+06</td>\n      <td>0.0</td>\n      <td>10.964710</td>\n      <td>10.431272</td>\n      <td>44.583899</td>\n      <td>68.900597</td>\n    </tr>\n    <tr>\n      <th>min</th>\n      <td>3.356913e+04</td>\n      <td>10.0</td>\n      <td>0.979178</td>\n      <td>0.913721</td>\n      <td>44.432158</td>\n      <td>19.389830</td>\n    </tr>\n    <tr>\n      <th>25%</th>\n      <td>1.547035e+06</td>\n      <td>10.0</td>\n      <td>10.115110</td>\n      <td>10.908103</td>\n      <td>84.861325</td>\n      <td>58.364879</td>\n    </tr>\n    <tr>\n      <th>50%</th>\n      <td>3.707208e+06</td>\n      <td>10.0</td>\n      <td>21.118031</td>\n      <td>16.822754</td>\n      <td>139.918591</td>\n      <td>124.878802</td>\n    </tr>\n    <tr>\n      <th>75%</th>\n      <td>7.383056e+06</td>\n      <td>10.0</td>\n      <td>28.317333</td>\n      <td>26.712883</td>\n      <td>167.332483</td>\n      <td>190.866667</td>\n    </tr>\n    <tr>\n      <th>max</th>\n      <td>1.689567e+07</td>\n      <td>10.0</td>\n      <td>38.445325</td>\n      <td>38.959405</td>\n      <td>197.135768</td>\n      <td>239.119552</td>\n    </tr>\n  </tbody>\n</table>\n</div>"
     },
     "metadata": {},
     "execution_count": 1079
    }
   ],
   "source": [
    "print_analyse(hist)"
   ]
  },
  {
   "cell_type": "markdown",
   "metadata": {},
   "source": [
    "Resultats pour le refroidissement logarithmique : "
   ]
  },
  {
   "cell_type": "code",
   "execution_count": 1080,
   "metadata": {
    "tags": []
   },
   "outputs": [
    {
     "output_type": "stream",
     "name": "stderr",
     "text": [
      "<ipython-input-1047-6b33492640bc>:2: RuntimeWarning: divide by zero encountered in double_scalars\n  return np.asarray([[1,99],[1,100],[1,min(0.625*x[1]/0.00954, 0.625*x[0]/0.0193, 200)],[max(10,1296000/(np.pi*x[2]**2)-4/3*x[2]),240]])\n"
     ]
    }
   ],
   "source": [
    "while True:\n",
    "    iter = input(\"Entrer le nombre d'iterations : \")\n",
    "    epsilon = input(\"Entrer epsilon ( progres minimal ) : \")\n",
    "\n",
    "    if int(iter) > 0 and float(epsilon) > 0:\n",
    "      break\n",
    "    else:\n",
    "      print(\"Une des valeurs entrees n'est pas acceptee!\")\n",
    "    \n",
    "hist = recuit_simule(temperature = calculer_temperature_log,itrs = int(iter), epsilon=float(epsilon))"
   ]
  },
  {
   "cell_type": "code",
   "execution_count": 1081,
   "metadata": {},
   "outputs": [
    {
     "output_type": "stream",
     "name": "stdout",
     "text": [
      "meilleurs dimensions : \n z1 = 8.23389282173043 \n z2 = 4.6533976492847575 \n x3 = 56.81696257998691 \n x4 = 216.53680614608822\n\nmeilleur score : 212236.5168149154\n\n"
     ]
    }
   ],
   "source": [
    "print_results(hist)"
   ]
  },
  {
   "cell_type": "code",
   "execution_count": 1082,
   "metadata": {},
   "outputs": [
    {
     "output_type": "stream",
     "name": "stdout",
     "text": [
      "historique detaille :\n\n"
     ]
    },
    {
     "output_type": "execute_result",
     "data": {
      "text/plain": [
       "             Score  Nbr itrs         z1         z2          x3          x4\n",
       "1.0   3.044398e+06      10.0  21.733553  42.311529  128.845632  181.559850\n",
       "2.0   5.819002e+06      10.0  27.204209  46.184176  164.101668  236.167178\n",
       "3.0   3.593838e+06      10.0  24.968947  41.217912  145.136135   97.865534\n",
       "4.0   8.052063e+06      10.0  55.454446   9.171618  101.326605  129.357000\n",
       "5.0   6.519317e+05      10.0  17.299597  29.760628   51.161476  173.575762\n",
       "6.0   1.301384e+07      10.0  58.315571  40.512082  148.831318   85.137100\n",
       "7.0   3.537250e+06      10.0  36.327623  56.966349   97.793076   33.474073\n",
       "8.0   6.453829e+05      10.0  14.104424  28.556903   72.736654  178.936080\n",
       "9.0   2.122365e+05      10.0   8.233893   4.653398   56.816963  216.536806\n",
       "10.0  7.924082e+05      10.0   6.946065  44.805888   91.648194  141.188756\n",
       "11.0  4.204817e+05      10.0  11.588788   8.405639   85.232631   88.002058\n",
       "12.0  2.970747e+05      10.0   8.056117  40.475487   53.571417  133.796897\n",
       "13.0  1.385699e+06      10.0  28.922784  38.633798   49.775720  141.729498\n",
       "14.0  2.535233e+06      10.0  13.159530  51.790045  143.667649  171.806337\n",
       "15.0  8.896318e+05      10.0  15.576535  45.252993   76.559256   32.750950\n",
       "16.0  6.230358e+06      10.0  24.190646  44.788281  195.054868  220.118871\n",
       "17.0  8.882462e+06      10.0  39.463333  15.546001  186.678902  230.527918\n",
       "18.0  2.759852e+05      10.0   6.946089  48.439087   44.602775  179.775767\n",
       "19.0  7.478919e+06      10.0  49.021651  35.155970  134.629641   17.044307\n",
       "20.0  5.005246e+06      10.0  42.331171  38.685975   78.112613  233.912829\n",
       "21.0  7.563811e+06      10.0  45.236630  35.042067  145.411426   45.624234\n",
       "22.0  1.003099e+06      10.0  11.902761  48.342285   94.535913   13.626230\n",
       "23.0  6.329107e+06      10.0  38.943167   4.407041  168.456683  116.839420\n",
       "24.0  3.438843e+06      10.0  42.736044   1.289748   54.113261  204.272732\n",
       "25.0  7.204454e+06      10.0  54.615373  13.640309  101.329118   99.578073\n",
       "26.0  4.296027e+06      10.0  38.605958  60.827273   76.114555  228.556425\n",
       "27.0  1.255535e+07      10.0  52.446607  50.991792  173.912573   36.697296\n",
       "28.0  9.342529e+06      10.0  47.873928   3.756564  145.192696  224.436576\n",
       "29.0  5.523499e+06      10.0  55.492562  36.554865   46.441730  229.920573\n",
       "30.0  1.390417e+07      10.0  60.086421  51.751446  163.073843   25.298982\n",
       "31.0  1.157429e+07      10.0  51.181044  47.313948  165.140657   76.948014\n",
       "32.0  1.833070e+07      10.0  60.987156  57.314714  161.067329  231.316870\n",
       "33.0  6.992335e+06      10.0  60.967149  25.066256   75.606762   88.862761\n",
       "34.0  1.041349e+06      10.0   4.715480  14.813101  190.942603   81.216361\n",
       "35.0  4.608189e+06      10.0  28.951276  31.639056  142.947509  220.481276\n",
       "36.0  3.315158e+06      10.0  45.430667   1.345841   40.040752  218.043215\n",
       "37.0  9.378929e+05      10.0  15.791157  53.675266   73.394379   51.134536\n",
       "38.0  1.180376e+06      10.0   3.083237  48.865827  113.313339  176.116026\n",
       "39.0  3.136240e+06      10.0  43.487299  54.594606   61.792313   60.783226\n",
       "40.0  1.498135e+06      10.0  24.563153  49.547654   63.166392  135.775757\n",
       "41.0  1.951424e+06      10.0  19.783500  41.182523   94.802383  231.518705\n",
       "42.0  8.337181e+05      10.0   4.086105  19.862387  141.612504  210.838735\n",
       "43.0  4.805076e+06      10.0  26.654153  44.060713  173.254366   17.613465\n",
       "44.0  4.643287e+06      10.0  37.584662  19.350631  112.143828  175.241883\n",
       "45.0  1.153261e+06      10.0  17.034887  60.181842   69.990710  193.641616\n",
       "46.0  7.446234e+06      10.0  45.677626   8.728570  137.286401  139.951037\n",
       "47.0  2.490756e+06      10.0  30.386253  52.101275   86.891684   58.312084\n",
       "48.0  9.307094e+06      10.0  55.017224  42.767571  118.453275   90.003864\n",
       "49.0  1.600501e+06      10.0  11.573091  31.932270  132.327150  230.625302\n",
       "50.0  3.621663e+06      10.0  29.715762  33.733596  131.046733   87.491005"
      ],
      "text/html": "<div>\n<style scoped>\n    .dataframe tbody tr th:only-of-type {\n        vertical-align: middle;\n    }\n\n    .dataframe tbody tr th {\n        vertical-align: top;\n    }\n\n    .dataframe thead th {\n        text-align: right;\n    }\n</style>\n<table border=\"1\" class=\"dataframe\">\n  <thead>\n    <tr style=\"text-align: right;\">\n      <th></th>\n      <th>Score</th>\n      <th>Nbr itrs</th>\n      <th>z1</th>\n      <th>z2</th>\n      <th>x3</th>\n      <th>x4</th>\n    </tr>\n  </thead>\n  <tbody>\n    <tr>\n      <th>1.0</th>\n      <td>3.044398e+06</td>\n      <td>10.0</td>\n      <td>21.733553</td>\n      <td>42.311529</td>\n      <td>128.845632</td>\n      <td>181.559850</td>\n    </tr>\n    <tr>\n      <th>2.0</th>\n      <td>5.819002e+06</td>\n      <td>10.0</td>\n      <td>27.204209</td>\n      <td>46.184176</td>\n      <td>164.101668</td>\n      <td>236.167178</td>\n    </tr>\n    <tr>\n      <th>3.0</th>\n      <td>3.593838e+06</td>\n      <td>10.0</td>\n      <td>24.968947</td>\n      <td>41.217912</td>\n      <td>145.136135</td>\n      <td>97.865534</td>\n    </tr>\n    <tr>\n      <th>4.0</th>\n      <td>8.052063e+06</td>\n      <td>10.0</td>\n      <td>55.454446</td>\n      <td>9.171618</td>\n      <td>101.326605</td>\n      <td>129.357000</td>\n    </tr>\n    <tr>\n      <th>5.0</th>\n      <td>6.519317e+05</td>\n      <td>10.0</td>\n      <td>17.299597</td>\n      <td>29.760628</td>\n      <td>51.161476</td>\n      <td>173.575762</td>\n    </tr>\n    <tr>\n      <th>6.0</th>\n      <td>1.301384e+07</td>\n      <td>10.0</td>\n      <td>58.315571</td>\n      <td>40.512082</td>\n      <td>148.831318</td>\n      <td>85.137100</td>\n    </tr>\n    <tr>\n      <th>7.0</th>\n      <td>3.537250e+06</td>\n      <td>10.0</td>\n      <td>36.327623</td>\n      <td>56.966349</td>\n      <td>97.793076</td>\n      <td>33.474073</td>\n    </tr>\n    <tr>\n      <th>8.0</th>\n      <td>6.453829e+05</td>\n      <td>10.0</td>\n      <td>14.104424</td>\n      <td>28.556903</td>\n      <td>72.736654</td>\n      <td>178.936080</td>\n    </tr>\n    <tr>\n      <th>9.0</th>\n      <td>2.122365e+05</td>\n      <td>10.0</td>\n      <td>8.233893</td>\n      <td>4.653398</td>\n      <td>56.816963</td>\n      <td>216.536806</td>\n    </tr>\n    <tr>\n      <th>10.0</th>\n      <td>7.924082e+05</td>\n      <td>10.0</td>\n      <td>6.946065</td>\n      <td>44.805888</td>\n      <td>91.648194</td>\n      <td>141.188756</td>\n    </tr>\n    <tr>\n      <th>11.0</th>\n      <td>4.204817e+05</td>\n      <td>10.0</td>\n      <td>11.588788</td>\n      <td>8.405639</td>\n      <td>85.232631</td>\n      <td>88.002058</td>\n    </tr>\n    <tr>\n      <th>12.0</th>\n      <td>2.970747e+05</td>\n      <td>10.0</td>\n      <td>8.056117</td>\n      <td>40.475487</td>\n      <td>53.571417</td>\n      <td>133.796897</td>\n    </tr>\n    <tr>\n      <th>13.0</th>\n      <td>1.385699e+06</td>\n      <td>10.0</td>\n      <td>28.922784</td>\n      <td>38.633798</td>\n      <td>49.775720</td>\n      <td>141.729498</td>\n    </tr>\n    <tr>\n      <th>14.0</th>\n      <td>2.535233e+06</td>\n      <td>10.0</td>\n      <td>13.159530</td>\n      <td>51.790045</td>\n      <td>143.667649</td>\n      <td>171.806337</td>\n    </tr>\n    <tr>\n      <th>15.0</th>\n      <td>8.896318e+05</td>\n      <td>10.0</td>\n      <td>15.576535</td>\n      <td>45.252993</td>\n      <td>76.559256</td>\n      <td>32.750950</td>\n    </tr>\n    <tr>\n      <th>16.0</th>\n      <td>6.230358e+06</td>\n      <td>10.0</td>\n      <td>24.190646</td>\n      <td>44.788281</td>\n      <td>195.054868</td>\n      <td>220.118871</td>\n    </tr>\n    <tr>\n      <th>17.0</th>\n      <td>8.882462e+06</td>\n      <td>10.0</td>\n      <td>39.463333</td>\n      <td>15.546001</td>\n      <td>186.678902</td>\n      <td>230.527918</td>\n    </tr>\n    <tr>\n      <th>18.0</th>\n      <td>2.759852e+05</td>\n      <td>10.0</td>\n      <td>6.946089</td>\n      <td>48.439087</td>\n      <td>44.602775</td>\n      <td>179.775767</td>\n    </tr>\n    <tr>\n      <th>19.0</th>\n      <td>7.478919e+06</td>\n      <td>10.0</td>\n      <td>49.021651</td>\n      <td>35.155970</td>\n      <td>134.629641</td>\n      <td>17.044307</td>\n    </tr>\n    <tr>\n      <th>20.0</th>\n      <td>5.005246e+06</td>\n      <td>10.0</td>\n      <td>42.331171</td>\n      <td>38.685975</td>\n      <td>78.112613</td>\n      <td>233.912829</td>\n    </tr>\n    <tr>\n      <th>21.0</th>\n      <td>7.563811e+06</td>\n      <td>10.0</td>\n      <td>45.236630</td>\n      <td>35.042067</td>\n      <td>145.411426</td>\n      <td>45.624234</td>\n    </tr>\n    <tr>\n      <th>22.0</th>\n      <td>1.003099e+06</td>\n      <td>10.0</td>\n      <td>11.902761</td>\n      <td>48.342285</td>\n      <td>94.535913</td>\n      <td>13.626230</td>\n    </tr>\n    <tr>\n      <th>23.0</th>\n      <td>6.329107e+06</td>\n      <td>10.0</td>\n      <td>38.943167</td>\n      <td>4.407041</td>\n      <td>168.456683</td>\n      <td>116.839420</td>\n    </tr>\n    <tr>\n      <th>24.0</th>\n      <td>3.438843e+06</td>\n      <td>10.0</td>\n      <td>42.736044</td>\n      <td>1.289748</td>\n      <td>54.113261</td>\n      <td>204.272732</td>\n    </tr>\n    <tr>\n      <th>25.0</th>\n      <td>7.204454e+06</td>\n      <td>10.0</td>\n      <td>54.615373</td>\n      <td>13.640309</td>\n      <td>101.329118</td>\n      <td>99.578073</td>\n    </tr>\n    <tr>\n      <th>26.0</th>\n      <td>4.296027e+06</td>\n      <td>10.0</td>\n      <td>38.605958</td>\n      <td>60.827273</td>\n      <td>76.114555</td>\n      <td>228.556425</td>\n    </tr>\n    <tr>\n      <th>27.0</th>\n      <td>1.255535e+07</td>\n      <td>10.0</td>\n      <td>52.446607</td>\n      <td>50.991792</td>\n      <td>173.912573</td>\n      <td>36.697296</td>\n    </tr>\n    <tr>\n      <th>28.0</th>\n      <td>9.342529e+06</td>\n      <td>10.0</td>\n      <td>47.873928</td>\n      <td>3.756564</td>\n      <td>145.192696</td>\n      <td>224.436576</td>\n    </tr>\n    <tr>\n      <th>29.0</th>\n      <td>5.523499e+06</td>\n      <td>10.0</td>\n      <td>55.492562</td>\n      <td>36.554865</td>\n      <td>46.441730</td>\n      <td>229.920573</td>\n    </tr>\n    <tr>\n      <th>30.0</th>\n      <td>1.390417e+07</td>\n      <td>10.0</td>\n      <td>60.086421</td>\n      <td>51.751446</td>\n      <td>163.073843</td>\n      <td>25.298982</td>\n    </tr>\n    <tr>\n      <th>31.0</th>\n      <td>1.157429e+07</td>\n      <td>10.0</td>\n      <td>51.181044</td>\n      <td>47.313948</td>\n      <td>165.140657</td>\n      <td>76.948014</td>\n    </tr>\n    <tr>\n      <th>32.0</th>\n      <td>1.833070e+07</td>\n      <td>10.0</td>\n      <td>60.987156</td>\n      <td>57.314714</td>\n      <td>161.067329</td>\n      <td>231.316870</td>\n    </tr>\n    <tr>\n      <th>33.0</th>\n      <td>6.992335e+06</td>\n      <td>10.0</td>\n      <td>60.967149</td>\n      <td>25.066256</td>\n      <td>75.606762</td>\n      <td>88.862761</td>\n    </tr>\n    <tr>\n      <th>34.0</th>\n      <td>1.041349e+06</td>\n      <td>10.0</td>\n      <td>4.715480</td>\n      <td>14.813101</td>\n      <td>190.942603</td>\n      <td>81.216361</td>\n    </tr>\n    <tr>\n      <th>35.0</th>\n      <td>4.608189e+06</td>\n      <td>10.0</td>\n      <td>28.951276</td>\n      <td>31.639056</td>\n      <td>142.947509</td>\n      <td>220.481276</td>\n    </tr>\n    <tr>\n      <th>36.0</th>\n      <td>3.315158e+06</td>\n      <td>10.0</td>\n      <td>45.430667</td>\n      <td>1.345841</td>\n      <td>40.040752</td>\n      <td>218.043215</td>\n    </tr>\n    <tr>\n      <th>37.0</th>\n      <td>9.378929e+05</td>\n      <td>10.0</td>\n      <td>15.791157</td>\n      <td>53.675266</td>\n      <td>73.394379</td>\n      <td>51.134536</td>\n    </tr>\n    <tr>\n      <th>38.0</th>\n      <td>1.180376e+06</td>\n      <td>10.0</td>\n      <td>3.083237</td>\n      <td>48.865827</td>\n      <td>113.313339</td>\n      <td>176.116026</td>\n    </tr>\n    <tr>\n      <th>39.0</th>\n      <td>3.136240e+06</td>\n      <td>10.0</td>\n      <td>43.487299</td>\n      <td>54.594606</td>\n      <td>61.792313</td>\n      <td>60.783226</td>\n    </tr>\n    <tr>\n      <th>40.0</th>\n      <td>1.498135e+06</td>\n      <td>10.0</td>\n      <td>24.563153</td>\n      <td>49.547654</td>\n      <td>63.166392</td>\n      <td>135.775757</td>\n    </tr>\n    <tr>\n      <th>41.0</th>\n      <td>1.951424e+06</td>\n      <td>10.0</td>\n      <td>19.783500</td>\n      <td>41.182523</td>\n      <td>94.802383</td>\n      <td>231.518705</td>\n    </tr>\n    <tr>\n      <th>42.0</th>\n      <td>8.337181e+05</td>\n      <td>10.0</td>\n      <td>4.086105</td>\n      <td>19.862387</td>\n      <td>141.612504</td>\n      <td>210.838735</td>\n    </tr>\n    <tr>\n      <th>43.0</th>\n      <td>4.805076e+06</td>\n      <td>10.0</td>\n      <td>26.654153</td>\n      <td>44.060713</td>\n      <td>173.254366</td>\n      <td>17.613465</td>\n    </tr>\n    <tr>\n      <th>44.0</th>\n      <td>4.643287e+06</td>\n      <td>10.0</td>\n      <td>37.584662</td>\n      <td>19.350631</td>\n      <td>112.143828</td>\n      <td>175.241883</td>\n    </tr>\n    <tr>\n      <th>45.0</th>\n      <td>1.153261e+06</td>\n      <td>10.0</td>\n      <td>17.034887</td>\n      <td>60.181842</td>\n      <td>69.990710</td>\n      <td>193.641616</td>\n    </tr>\n    <tr>\n      <th>46.0</th>\n      <td>7.446234e+06</td>\n      <td>10.0</td>\n      <td>45.677626</td>\n      <td>8.728570</td>\n      <td>137.286401</td>\n      <td>139.951037</td>\n    </tr>\n    <tr>\n      <th>47.0</th>\n      <td>2.490756e+06</td>\n      <td>10.0</td>\n      <td>30.386253</td>\n      <td>52.101275</td>\n      <td>86.891684</td>\n      <td>58.312084</td>\n    </tr>\n    <tr>\n      <th>48.0</th>\n      <td>9.307094e+06</td>\n      <td>10.0</td>\n      <td>55.017224</td>\n      <td>42.767571</td>\n      <td>118.453275</td>\n      <td>90.003864</td>\n    </tr>\n    <tr>\n      <th>49.0</th>\n      <td>1.600501e+06</td>\n      <td>10.0</td>\n      <td>11.573091</td>\n      <td>31.932270</td>\n      <td>132.327150</td>\n      <td>230.625302</td>\n    </tr>\n    <tr>\n      <th>50.0</th>\n      <td>3.621663e+06</td>\n      <td>10.0</td>\n      <td>29.715762</td>\n      <td>33.733596</td>\n      <td>131.046733</td>\n      <td>87.491005</td>\n    </tr>\n  </tbody>\n</table>\n</div>"
     },
     "metadata": {},
     "execution_count": 1082
    }
   ],
   "source": [
    "print_table(hist)"
   ]
  },
  {
   "cell_type": "code",
   "execution_count": 1083,
   "metadata": {},
   "outputs": [
    {
     "output_type": "stream",
     "name": "stdout",
     "text": [
      "Analyse des donnees generees :\n\n"
     ]
    },
    {
     "output_type": "execute_result",
     "data": {
      "text/plain": [
       "              Score  Nbr itrs         z1         z2          x3          x4\n",
       "count  5.000000e+01      50.0  50.000000  50.000000   50.000000   50.000000\n",
       "mean   4.687840e+06      10.0  19.680691  21.949935  111.201721  138.480597\n",
       "std    4.149847e+06       0.0  11.240813  10.897171   44.876050   73.975693\n",
       "min    2.122365e+05      10.0   1.927023   0.806093   40.040752   13.626230\n",
       "25%    1.160040e+06      10.0   9.768869  13.227096   73.947475   82.196546\n",
       "50%    3.565544e+06      10.0  18.333449  25.308615  106.736473  140.569897\n",
       "75%    7.151424e+06      10.0  28.509929  30.259304  145.178556  215.112288\n",
       "max    1.833070e+07      10.0  38.116972  38.017046  195.054868  236.167178"
      ],
      "text/html": "<div>\n<style scoped>\n    .dataframe tbody tr th:only-of-type {\n        vertical-align: middle;\n    }\n\n    .dataframe tbody tr th {\n        vertical-align: top;\n    }\n\n    .dataframe thead th {\n        text-align: right;\n    }\n</style>\n<table border=\"1\" class=\"dataframe\">\n  <thead>\n    <tr style=\"text-align: right;\">\n      <th></th>\n      <th>Score</th>\n      <th>Nbr itrs</th>\n      <th>z1</th>\n      <th>z2</th>\n      <th>x3</th>\n      <th>x4</th>\n    </tr>\n  </thead>\n  <tbody>\n    <tr>\n      <th>count</th>\n      <td>5.000000e+01</td>\n      <td>50.0</td>\n      <td>50.000000</td>\n      <td>50.000000</td>\n      <td>50.000000</td>\n      <td>50.000000</td>\n    </tr>\n    <tr>\n      <th>mean</th>\n      <td>4.687840e+06</td>\n      <td>10.0</td>\n      <td>19.680691</td>\n      <td>21.949935</td>\n      <td>111.201721</td>\n      <td>138.480597</td>\n    </tr>\n    <tr>\n      <th>std</th>\n      <td>4.149847e+06</td>\n      <td>0.0</td>\n      <td>11.240813</td>\n      <td>10.897171</td>\n      <td>44.876050</td>\n      <td>73.975693</td>\n    </tr>\n    <tr>\n      <th>min</th>\n      <td>2.122365e+05</td>\n      <td>10.0</td>\n      <td>1.927023</td>\n      <td>0.806093</td>\n      <td>40.040752</td>\n      <td>13.626230</td>\n    </tr>\n    <tr>\n      <th>25%</th>\n      <td>1.160040e+06</td>\n      <td>10.0</td>\n      <td>9.768869</td>\n      <td>13.227096</td>\n      <td>73.947475</td>\n      <td>82.196546</td>\n    </tr>\n    <tr>\n      <th>50%</th>\n      <td>3.565544e+06</td>\n      <td>10.0</td>\n      <td>18.333449</td>\n      <td>25.308615</td>\n      <td>106.736473</td>\n      <td>140.569897</td>\n    </tr>\n    <tr>\n      <th>75%</th>\n      <td>7.151424e+06</td>\n      <td>10.0</td>\n      <td>28.509929</td>\n      <td>30.259304</td>\n      <td>145.178556</td>\n      <td>215.112288</td>\n    </tr>\n    <tr>\n      <th>max</th>\n      <td>1.833070e+07</td>\n      <td>10.0</td>\n      <td>38.116972</td>\n      <td>38.017046</td>\n      <td>195.054868</td>\n      <td>236.167178</td>\n    </tr>\n  </tbody>\n</table>\n</div>"
     },
     "metadata": {},
     "execution_count": 1083
    }
   ],
   "source": [
    "print_analyse(hist)"
   ]
  },
  {
   "cell_type": "markdown",
   "metadata": {},
   "source": [
    "### Conclusion"
   ]
  },
  {
   "cell_type": "markdown",
   "metadata": {},
   "source": [
    "En moyenne sur 50 exécutions des 3 algorithmes, l'algorithme aléatoire est celui qui a donné les meilleurs résultats ce qui est assez surprenant, en choisissant pour toutes les exécutions effectuées 10 itérations par cycle (50 cycles) et 0.01 pour epsilon. \n",
    "\n",
    "En conclusion, le meilleur coût trouvé est de 20964.93791479527.\n"
   ]
  },
  {
   "cell_type": "code",
   "execution_count": null,
   "metadata": {},
   "outputs": [],
   "source": []
  }
 ],
 "metadata": {
  "kernelspec": {
   "display_name": "Python 3",
   "language": "python",
   "name": "python3"
  },
  "language_info": {
   "codemirror_mode": {
    "name": "ipython",
    "version": 3
   },
   "file_extension": ".py",
   "mimetype": "text/x-python",
   "name": "python",
   "nbconvert_exporter": "python",
   "pygments_lexer": "ipython3",
   "version": "3.9.2"
  }
 },
 "nbformat": 4,
 "nbformat_minor": 4
}